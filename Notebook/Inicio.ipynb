{
 "cells": [
  {
   "attachments": {},
   "cell_type": "markdown",
   "metadata": {},
   "source": [
    "### Introducción\n",
    "El objetivo final de este proyecto es predecir el sentimiento de un texto dado usando python, donde usamos NLTK, también conocido como Natural Language Processing Toolkit y de ser posible precisar el impacto causado por los comentarios positivos y negativos sobre un determinado comportamiento.\n",
    "\n",
    "* Para este proyecto, importaremos un conjunto de librerías que se muestran a continuación\n",
    "* Importaremos el conjunto de datos\n",
    "* Realizaremos limpieza, formateo y visualización de los datos\n",
    "* Construcción del modelo\n",
    "* Predicción\n",
    "* Medición de impacto "
   ]
  },
  {
   "cell_type": "code",
   "execution_count": 72,
   "metadata": {},
   "outputs": [],
   "source": [
    "# Importar librerías\n",
    "from bs4 import BeautifulSoup\n",
    "import numpy as np\n",
    "import pandas as pd\n",
    "import matplotlib.pyplot as plt\n",
    "import seaborn as sns\n",
    "import nltk\n",
    "import sklearn\n",
    "\n",
    "from sklearn.feature_extraction.text import CountVectorizer\n",
    "from sklearn.feature_extraction.text import TfidfVectorizer\n",
    "from sklearn.model_selection import train_test_split\n",
    "from sklearn.linear_model import LogisticRegression"
   ]
  },
  {
   "cell_type": "code",
   "execution_count": 61,
   "metadata": {},
   "outputs": [],
   "source": [
    "import string as st"
   ]
  },
  {
   "cell_type": "code",
   "execution_count": 63,
   "metadata": {},
   "outputs": [
    {
     "name": "stdout",
     "output_type": "stream",
     "text": [
      "['C:\\\\Users\\\\Joako/nltk_data', 'c:\\\\Users\\\\Joako\\\\anaconda3\\\\envs\\\\ReviewProject\\\\nltk_data', 'c:\\\\Users\\\\Joako\\\\anaconda3\\\\envs\\\\ReviewProject\\\\share\\\\nltk_data', 'c:\\\\Users\\\\Joako\\\\anaconda3\\\\envs\\\\ReviewProject\\\\lib\\\\nltk_data', 'C:\\\\Users\\\\Joako\\\\AppData\\\\Roaming\\\\nltk_data', 'C:\\\\nltk_data', 'D:\\\\nltk_data', 'E:\\\\nltk_data']\n"
     ]
    }
   ],
   "source": [
    "print(nltk.data.path)"
   ]
  },
  {
   "cell_type": "code",
   "execution_count": 68,
   "metadata": {},
   "outputs": [
    {
     "name": "stderr",
     "output_type": "stream",
     "text": [
      "[nltk_data] Downloading package stopwords to\n",
      "[nltk_data]     C:\\Users\\Joako\\AppData\\Roaming\\nltk_data...\n",
      "[nltk_data]   Package stopwords is already up-to-date!\n"
     ]
    }
   ],
   "source": [
    "nltk.download('stopwords')\n",
    "nltk.data.path.append('c:\\\\Users\\\\Joako\\\\anaconda3\\\\envs\\\\ReviewProject\\\\nltk_data')"
   ]
  },
  {
   "cell_type": "code",
   "execution_count": 67,
   "metadata": {},
   "outputs": [
    {
     "name": "stderr",
     "output_type": "stream",
     "text": [
      "[nltk_data] Downloading package stopwords to\n",
      "[nltk_data]     C:\\Users\\Joako\\AppData\\Roaming\\nltk_data...\n",
      "[nltk_data]   Package stopwords is already up-to-date!\n"
     ]
    },
    {
     "data": {
      "text/plain": [
       "True"
      ]
     },
     "execution_count": 67,
     "metadata": {},
     "output_type": "execute_result"
    }
   ],
   "source": [
    "nltk.download('stopwords')"
   ]
  },
  {
   "cell_type": "code",
   "execution_count": 4,
   "metadata": {},
   "outputs": [],
   "source": [
    "# Importar datos\n",
    "data = pd.read_csv('C:\\\\Users\\\\Joako\\\\Documents\\\\AnalisisDatos\\\\ReviewProject\\\\DatosOriginales\\\\reviews_filmaffinity.csv', delimiter='|', header=0)"
   ]
  },
  {
   "cell_type": "code",
   "execution_count": 5,
   "metadata": {},
   "outputs": [
    {
     "data": {
      "text/plain": [
       "(8591, 6)"
      ]
     },
     "execution_count": 5,
     "metadata": {},
     "output_type": "execute_result"
    }
   ],
   "source": [
    "data.shape"
   ]
  },
  {
   "cell_type": "code",
   "execution_count": 6,
   "metadata": {},
   "outputs": [
    {
     "name": "stdout",
     "output_type": "stream",
     "text": [
      "<class 'pandas.core.frame.DataFrame'>\n",
      "RangeIndex: 8591 entries, 0 to 8590\n",
      "Data columns (total 6 columns):\n",
      " #   Column         Non-Null Count  Dtype  \n",
      "---  ------         --------------  -----  \n",
      " 0   film_name      8591 non-null   object \n",
      " 1   gender         8591 non-null   object \n",
      " 2   film_avg_rate  8591 non-null   object \n",
      " 3   review_rate    8589 non-null   float64\n",
      " 4   review_title   8591 non-null   object \n",
      " 5   review_text    8591 non-null   object \n",
      "dtypes: float64(1), object(5)\n",
      "memory usage: 402.8+ KB\n"
     ]
    }
   ],
   "source": [
    "data.info()"
   ]
  },
  {
   "cell_type": "code",
   "execution_count": 7,
   "metadata": {},
   "outputs": [
    {
     "data": {
      "text/html": [
       "<div>\n",
       "<style scoped>\n",
       "    .dataframe tbody tr th:only-of-type {\n",
       "        vertical-align: middle;\n",
       "    }\n",
       "\n",
       "    .dataframe tbody tr th {\n",
       "        vertical-align: top;\n",
       "    }\n",
       "\n",
       "    .dataframe thead th {\n",
       "        text-align: right;\n",
       "    }\n",
       "</style>\n",
       "<table border=\"1\" class=\"dataframe\">\n",
       "  <thead>\n",
       "    <tr style=\"text-align: right;\">\n",
       "      <th></th>\n",
       "      <th>film_name</th>\n",
       "      <th>gender</th>\n",
       "      <th>film_avg_rate</th>\n",
       "      <th>review_rate</th>\n",
       "      <th>review_title</th>\n",
       "      <th>review_text</th>\n",
       "    </tr>\n",
       "  </thead>\n",
       "  <tbody>\n",
       "    <tr>\n",
       "      <th>0</th>\n",
       "      <td>Ocho apellidos vascos</td>\n",
       "      <td>Comedia</td>\n",
       "      <td>6,0</td>\n",
       "      <td>3.0</td>\n",
       "      <td>OCHO APELLIDOS VASCOS...Y NINGÚN NOMBRE PROPIO</td>\n",
       "      <td>La mayor virtud de esta película es su existen...</td>\n",
       "    </tr>\n",
       "    <tr>\n",
       "      <th>1</th>\n",
       "      <td>Ocho apellidos vascos</td>\n",
       "      <td>Comedia</td>\n",
       "      <td>6,0</td>\n",
       "      <td>2.0</td>\n",
       "      <td>El perro verde</td>\n",
       "      <td>No soy un experto cinéfilo, pero pocas veces m...</td>\n",
       "    </tr>\n",
       "    <tr>\n",
       "      <th>2</th>\n",
       "      <td>Ocho apellidos vascos</td>\n",
       "      <td>Comedia</td>\n",
       "      <td>6,0</td>\n",
       "      <td>2.0</td>\n",
       "      <td>Si no eres de comer mierda... no te comas esta...</td>\n",
       "      <td>Si no eres un incondicional del humor estilo T...</td>\n",
       "    </tr>\n",
       "    <tr>\n",
       "      <th>3</th>\n",
       "      <td>Ocho apellidos vascos</td>\n",
       "      <td>Comedia</td>\n",
       "      <td>6,0</td>\n",
       "      <td>2.0</td>\n",
       "      <td>Aida: The movie</td>\n",
       "      <td>No sé qué está pasando, si la gente se deja ll...</td>\n",
       "    </tr>\n",
       "    <tr>\n",
       "      <th>4</th>\n",
       "      <td>Ocho apellidos vascos</td>\n",
       "      <td>Comedia</td>\n",
       "      <td>6,0</td>\n",
       "      <td>2.0</td>\n",
       "      <td>UN HOMBRE SOLO (Julio Iglesias 1987)</td>\n",
       "      <td>Pero cuando amanece,y me quedo solo,siento en ...</td>\n",
       "    </tr>\n",
       "  </tbody>\n",
       "</table>\n",
       "</div>"
      ],
      "text/plain": [
       "               film_name   gender film_avg_rate  review_rate   \n",
       "0  Ocho apellidos vascos  Comedia           6,0          3.0  \\\n",
       "1  Ocho apellidos vascos  Comedia           6,0          2.0   \n",
       "2  Ocho apellidos vascos  Comedia           6,0          2.0   \n",
       "3  Ocho apellidos vascos  Comedia           6,0          2.0   \n",
       "4  Ocho apellidos vascos  Comedia           6,0          2.0   \n",
       "\n",
       "                                        review_title   \n",
       "0     OCHO APELLIDOS VASCOS...Y NINGÚN NOMBRE PROPIO  \\\n",
       "1                                     El perro verde   \n",
       "2  Si no eres de comer mierda... no te comas esta...   \n",
       "3                                    Aida: The movie   \n",
       "4               UN HOMBRE SOLO (Julio Iglesias 1987)   \n",
       "\n",
       "                                         review_text  \n",
       "0  La mayor virtud de esta película es su existen...  \n",
       "1  No soy un experto cinéfilo, pero pocas veces m...  \n",
       "2  Si no eres un incondicional del humor estilo T...  \n",
       "3  No sé qué está pasando, si la gente se deja ll...  \n",
       "4  Pero cuando amanece,y me quedo solo,siento en ...  "
      ]
     },
     "execution_count": 7,
     "metadata": {},
     "output_type": "execute_result"
    }
   ],
   "source": [
    "data.head()"
   ]
  },
  {
   "cell_type": "code",
   "execution_count": 8,
   "metadata": {},
   "outputs": [
    {
     "data": {
      "text/plain": [
       "film_name        0\n",
       "gender           0\n",
       "film_avg_rate    0\n",
       "review_rate      2\n",
       "review_title     0\n",
       "review_text      0\n",
       "dtype: int64"
      ]
     },
     "execution_count": 8,
     "metadata": {},
     "output_type": "execute_result"
    }
   ],
   "source": [
    "# Encontrar nulos\n",
    "data.isnull().sum()"
   ]
  },
  {
   "cell_type": "code",
   "execution_count": 9,
   "metadata": {},
   "outputs": [],
   "source": [
    "# Eliminar nulos\n",
    "data=data.dropna()"
   ]
  },
  {
   "cell_type": "code",
   "execution_count": 10,
   "metadata": {},
   "outputs": [
    {
     "name": "stdout",
     "output_type": "stream",
     "text": [
      "['6,0' '6,8' '4,4' '6,7' '4,8' '5,3' '6,5' '6,4' '7,2' '4,2' '6,9' '3,7'\n",
      " '5,7' '5,5' '7,7' '6,1' '5,8' '5,2' '5,4' '4,6' '5,0' '7,1' '3,9' '4,7'\n",
      " '5,1' '6,2' '6,6' '7,0']\n"
     ]
    }
   ],
   "source": [
    "# Comprobando datos de la columna y noto que los valores contienen una coma y además son objetos. \n",
    "film=data['film_avg_rate'].unique()\n",
    "print(film)\n"
   ]
  },
  {
   "cell_type": "code",
   "execution_count": 11,
   "metadata": {},
   "outputs": [],
   "source": [
    "# La columna film_avg_rate La convierto en float y remplazo ',' por '.'\n",
    "data['film_avg_rate'] = data['film_avg_rate'].str.replace(',', '.').astype(float)\n"
   ]
  },
  {
   "cell_type": "code",
   "execution_count": 12,
   "metadata": {},
   "outputs": [
    {
     "name": "stdout",
     "output_type": "stream",
     "text": [
      "[ 3.  2.  8.  1.  6.  4.  5.  7.  9. 10.]\n"
     ]
    }
   ],
   "source": [
    "# comprobar rango de puntajes en la columna review_rate\n",
    "rate=data['review_rate'].unique()\n",
    "print(rate)"
   ]
  },
  {
   "cell_type": "code",
   "execution_count": 13,
   "metadata": {},
   "outputs": [
    {
     "data": {
      "text/html": [
       "<div>\n",
       "<style scoped>\n",
       "    .dataframe tbody tr th:only-of-type {\n",
       "        vertical-align: middle;\n",
       "    }\n",
       "\n",
       "    .dataframe tbody tr th {\n",
       "        vertical-align: top;\n",
       "    }\n",
       "\n",
       "    .dataframe thead th {\n",
       "        text-align: right;\n",
       "    }\n",
       "</style>\n",
       "<table border=\"1\" class=\"dataframe\">\n",
       "  <thead>\n",
       "    <tr style=\"text-align: right;\">\n",
       "      <th></th>\n",
       "      <th>film_avg_rate</th>\n",
       "      <th>review_rate</th>\n",
       "    </tr>\n",
       "  </thead>\n",
       "  <tbody>\n",
       "    <tr>\n",
       "      <th>count</th>\n",
       "      <td>8589.000000</td>\n",
       "      <td>8589.000000</td>\n",
       "    </tr>\n",
       "    <tr>\n",
       "      <th>mean</th>\n",
       "      <td>6.186972</td>\n",
       "      <td>5.872744</td>\n",
       "    </tr>\n",
       "    <tr>\n",
       "      <th>std</th>\n",
       "      <td>0.991661</td>\n",
       "      <td>2.549188</td>\n",
       "    </tr>\n",
       "    <tr>\n",
       "      <th>min</th>\n",
       "      <td>3.700000</td>\n",
       "      <td>1.000000</td>\n",
       "    </tr>\n",
       "    <tr>\n",
       "      <th>25%</th>\n",
       "      <td>5.500000</td>\n",
       "      <td>4.000000</td>\n",
       "    </tr>\n",
       "    <tr>\n",
       "      <th>50%</th>\n",
       "      <td>6.500000</td>\n",
       "      <td>6.000000</td>\n",
       "    </tr>\n",
       "    <tr>\n",
       "      <th>75%</th>\n",
       "      <td>6.900000</td>\n",
       "      <td>8.000000</td>\n",
       "    </tr>\n",
       "    <tr>\n",
       "      <th>max</th>\n",
       "      <td>7.700000</td>\n",
       "      <td>10.000000</td>\n",
       "    </tr>\n",
       "  </tbody>\n",
       "</table>\n",
       "</div>"
      ],
      "text/plain": [
       "       film_avg_rate  review_rate\n",
       "count    8589.000000  8589.000000\n",
       "mean        6.186972     5.872744\n",
       "std         0.991661     2.549188\n",
       "min         3.700000     1.000000\n",
       "25%         5.500000     4.000000\n",
       "50%         6.500000     6.000000\n",
       "75%         6.900000     8.000000\n",
       "max         7.700000    10.000000"
      ]
     },
     "execution_count": 13,
     "metadata": {},
     "output_type": "execute_result"
    }
   ],
   "source": [
    "data.describe()"
   ]
  },
  {
   "attachments": {},
   "cell_type": "markdown",
   "metadata": {},
   "source": [
    "Crear una escala más manejable de los valores de review_rate en el que agruparemos siguiendo el criterio de normalidad que nos muestra la descripción de la tabla el 25 % de los puntajes estan entre 1-4, con lo cual los agrupamos con el puntaje 0 = 1,2,3,4 y los significamos como valores negativos. entre el 25% y el 75% se ubican los puntajes entre  5-8 y los agrupamos con el puntaje 1 = 5,6,7, significandolos neutrales y por encima del 75% los puntajes 9,10 que agrupamos en el puntaje 2 = 8,9,10 como positivos."
   ]
  },
  {
   "cell_type": "code",
   "execution_count": 14,
   "metadata": {},
   "outputs": [],
   "source": [
    "# Valoración calificaciones \n",
    "\n",
    "def clasificar_rate(n_review):\n",
    "    if (n_review <= 4.0).all():\n",
    "        return 'Negative'\n",
    "    elif ((n_review > 4.0) & (n_review <= 7.0)).any():\n",
    "        return 'Neutral'\n",
    "    else:\n",
    "        return 'Positive'\n",
    "    \n",
    "data['value_rate']= data.groupby(level=0)['review_rate'].apply(lambda x: clasificar_rate(x))"
   ]
  },
  {
   "cell_type": "code",
   "execution_count": 15,
   "metadata": {},
   "outputs": [
    {
     "data": {
      "text/html": [
       "<div>\n",
       "<style scoped>\n",
       "    .dataframe tbody tr th:only-of-type {\n",
       "        vertical-align: middle;\n",
       "    }\n",
       "\n",
       "    .dataframe tbody tr th {\n",
       "        vertical-align: top;\n",
       "    }\n",
       "\n",
       "    .dataframe thead th {\n",
       "        text-align: right;\n",
       "    }\n",
       "</style>\n",
       "<table border=\"1\" class=\"dataframe\">\n",
       "  <thead>\n",
       "    <tr style=\"text-align: right;\">\n",
       "      <th></th>\n",
       "      <th>film_name</th>\n",
       "      <th>gender</th>\n",
       "      <th>film_avg_rate</th>\n",
       "      <th>review_rate</th>\n",
       "      <th>review_title</th>\n",
       "      <th>review_text</th>\n",
       "      <th>value_rate</th>\n",
       "    </tr>\n",
       "  </thead>\n",
       "  <tbody>\n",
       "    <tr>\n",
       "      <th>5037</th>\n",
       "      <td>Mientras dure la guerra</td>\n",
       "      <td>Drama</td>\n",
       "      <td>6.8</td>\n",
       "      <td>8.0</td>\n",
       "      <td>Las dos Españas en unos personajes históricos ...</td>\n",
       "      <td>Amenábar ofrece el reflejo de la cristalina di...</td>\n",
       "      <td>Positive</td>\n",
       "    </tr>\n",
       "    <tr>\n",
       "      <th>5907</th>\n",
       "      <td>Tres metros sobre el cielo</td>\n",
       "      <td>Romance</td>\n",
       "      <td>4.7</td>\n",
       "      <td>8.0</td>\n",
       "      <td>Se puede profundizar un poco más y te das cuen...</td>\n",
       "      <td>Para mí es una buena película, es entretenida,...</td>\n",
       "      <td>Positive</td>\n",
       "    </tr>\n",
       "    <tr>\n",
       "      <th>1007</th>\n",
       "      <td>Ocho apellidos catalanes</td>\n",
       "      <td>Comedia</td>\n",
       "      <td>4.4</td>\n",
       "      <td>6.0</td>\n",
       "      <td>Menos graciosa que la anterior, pero entretenida</td>\n",
       "      <td>No entiendo lo enconadas de algunas críticas a...</td>\n",
       "      <td>Neutral</td>\n",
       "    </tr>\n",
       "    <tr>\n",
       "      <th>8484</th>\n",
       "      <td>La isla mínima</td>\n",
       "      <td>Cine negro</td>\n",
       "      <td>7.2</td>\n",
       "      <td>8.0</td>\n",
       "      <td>Un thriller que hará que no te levantes del si...</td>\n",
       "      <td>He de comentar que la película la adquirí en \"...</td>\n",
       "      <td>Positive</td>\n",
       "    </tr>\n",
       "    <tr>\n",
       "      <th>1807</th>\n",
       "      <td>Ágora</td>\n",
       "      <td>Aventuras</td>\n",
       "      <td>6.5</td>\n",
       "      <td>7.0</td>\n",
       "      <td>El tránsito desde ser Amenábar hasta ser Spiel...</td>\n",
       "      <td>Amenábar siempre ha querido ser Spielberg, sie...</td>\n",
       "      <td>Neutral</td>\n",
       "    </tr>\n",
       "  </tbody>\n",
       "</table>\n",
       "</div>"
      ],
      "text/plain": [
       "                       film_name      gender  film_avg_rate  review_rate   \n",
       "5037     Mientras dure la guerra       Drama            6.8          8.0  \\\n",
       "5907  Tres metros sobre el cielo     Romance            4.7          8.0   \n",
       "1007    Ocho apellidos catalanes     Comedia            4.4          6.0   \n",
       "8484              La isla mínima  Cine negro            7.2          8.0   \n",
       "1807                       Ágora   Aventuras            6.5          7.0   \n",
       "\n",
       "                                           review_title   \n",
       "5037  Las dos Españas en unos personajes históricos ...  \\\n",
       "5907  Se puede profundizar un poco más y te das cuen...   \n",
       "1007   Menos graciosa que la anterior, pero entretenida   \n",
       "8484  Un thriller que hará que no te levantes del si...   \n",
       "1807  El tránsito desde ser Amenábar hasta ser Spiel...   \n",
       "\n",
       "                                            review_text value_rate  \n",
       "5037  Amenábar ofrece el reflejo de la cristalina di...   Positive  \n",
       "5907  Para mí es una buena película, es entretenida,...   Positive  \n",
       "1007  No entiendo lo enconadas de algunas críticas a...    Neutral  \n",
       "8484  He de comentar que la película la adquirí en \"...   Positive  \n",
       "1807  Amenábar siempre ha querido ser Spielberg, sie...    Neutral  "
      ]
     },
     "execution_count": 15,
     "metadata": {},
     "output_type": "execute_result"
    }
   ],
   "source": [
    "data.sample(5)"
   ]
  },
  {
   "cell_type": "code",
   "execution_count": 16,
   "metadata": {},
   "outputs": [
    {
     "data": {
      "image/png": "[encoded data removed]",
      "text/plain": [
       "<Figure size 640x480 with 1 Axes>"
      ]
     },
     "metadata": {},
     "output_type": "display_data"
    }
   ],
   "source": [
    "# Obtener la frecuencia de cada categoría\n",
    "category_counts = data['value_rate'].value_counts()\n",
    "\n",
    "# Crear el gráfico de barras\n",
    "sns.barplot(x=category_counts.index, y=category_counts.values)\n",
    "\n",
    "# Configurar los ejes y el título del gráfico\n",
    "plt.xlabel('Categoría de Calificación')\n",
    "plt.ylabel('Cantidad')\n",
    "plt.title('Distribución de Calificaciones')\n",
    "\n",
    "# Mostrar gráfico\n",
    "plt.show()"
   ]
  },
  {
   "cell_type": "code",
   "execution_count": 18,
   "metadata": {},
   "outputs": [],
   "source": [
    "#Simplificación de sentimientos\n",
    "a=[]\n",
    "for i, review_rate in enumerate(data['review_rate']):\n",
    "    if review_rate <= 4.0:\n",
    "        a.append(0)\n",
    "    elif review_rate <= 7.0:\n",
    "        a.append(1)\n",
    "    elif review_rate > 7.0:\n",
    "        a.append(2)\n",
    "    else:\n",
    "        print(f\"Unmatched value at index {i}: {review_rate}\")\n",
    "\n",
    "\n",
    "        "
   ]
  },
  {
   "cell_type": "code",
   "execution_count": 19,
   "metadata": {},
   "outputs": [],
   "source": [
    "a = [int(value) for value in a]"
   ]
  },
  {
   "cell_type": "code",
   "execution_count": 20,
   "metadata": {},
   "outputs": [
    {
     "data": {
      "image/png": "[encoded data removed]",
      "text/plain": [
       "<Figure size 640x480 with 1 Axes>"
      ]
     },
     "metadata": {},
     "output_type": "display_data"
    }
   ],
   "source": [
    "#Graficamos solo con matplotlib.pyplot porque seaborn esta dando un error\n",
    "\n",
    "# Contar la frecuencia de cada categoría en 'a'\n",
    "counts = [a.count(0), a.count(1), a.count(2)]\n",
    "\n",
    "# Etiquetas de las categorías\n",
    "labels = ['Negative', 'Neutral', 'Positive']\n",
    "\n",
    "# Colores para las barras\n",
    "colors = ['red', 'green', 'blue']\n",
    "\n",
    "# Crear el gráfico de barras con colores diferentes\n",
    "plt.bar(labels, counts, color=colors)\n",
    "plt.xlabel('Reviews', color=\"red\")\n",
    "plt.ylabel('Count', color=\"red\")\n",
    "plt.title('COUNT PLOT', color=\"r\")\n",
    "plt.show()"
   ]
  },
  {
   "cell_type": "code",
   "execution_count": 21,
   "metadata": {},
   "outputs": [
    {
     "name": "stdout",
     "output_type": "stream",
     "text": [
      "                                            review_text  sentiment\n",
      "0     La mayor virtud de esta película es su existen...          0\n",
      "1     No soy un experto cinéfilo, pero pocas veces m...          0\n",
      "2     Si no eres un incondicional del humor estilo T...          0\n",
      "3     No sé qué está pasando, si la gente se deja ll...          0\n",
      "4     Pero cuando amanece,y me quedo solo,siento en ...          0\n",
      "...                                                 ...        ...\n",
      "8586  Buena no, lo siguiente. Por fin un film serio ...          2\n",
      "8587  Me esperaba mucho, pero que mucho, más.Guión m...          0\n",
      "8588  De mal cuerpo como sensación al finalizar, de ...          0\n",
      "8589  Los que han añadido comentarios os lo han dich...          0\n",
      "8590  Fui a ver esta película de cine con entusiasmo...          0\n",
      "\n",
      "[8589 rows x 2 columns]\n"
     ]
    }
   ],
   "source": [
    "data['sentiment']=a\n",
    "final_dataset = data[['review_text', 'sentiment']]\n",
    "print(final_dataset)"
   ]
  },
  {
   "cell_type": "code",
   "execution_count": 22,
   "metadata": {},
   "outputs": [
    {
     "data": {
      "text/plain": [
       "(2440, 2635)"
      ]
     },
     "execution_count": 22,
     "metadata": {},
     "output_type": "execute_result"
    }
   ],
   "source": [
    "#Cuento cantidad de comentarios\n",
    "\n",
    "data_p=final_dataset[data['sentiment']==2]\n",
    "data_n=final_dataset[data['sentiment']==0]\n",
    "len(data_n), len(data_p)"
   ]
  },
  {
   "cell_type": "code",
   "execution_count": 23,
   "metadata": {},
   "outputs": [
    {
     "data": {
      "text/plain": [
       "(2400, 2400)"
      ]
     },
     "execution_count": 23,
     "metadata": {},
     "output_type": "execute_result"
    }
   ],
   "source": [
    "#Selecciono la misma cantidad de comentarios positivos y negativos\n",
    "\n",
    "datap = data_p.iloc[np.random.randint(0, len(data_p), 2400), :]\n",
    "datan = data_n.iloc[np.random.randint(0, len(data_n), 2400), :]\n",
    "\n",
    "len(datan), len(datap)"
   ]
  },
  {
   "cell_type": "code",
   "execution_count": 24,
   "metadata": {},
   "outputs": [
    {
     "data": {
      "text/plain": [
       "4800"
      ]
     },
     "execution_count": 24,
     "metadata": {},
     "output_type": "execute_result"
    }
   ],
   "source": [
    "# creo nuevo dataset con datos equivalentes para el modelo\n",
    "\n",
    "data_sent = pd.concat([datap,datan])\n",
    "len(data_sent)"
   ]
  },
  {
   "cell_type": "code",
   "execution_count": 26,
   "metadata": {},
   "outputs": [
    {
     "data": {
      "text/html": [
       "<div>\n",
       "<style scoped>\n",
       "    .dataframe tbody tr th:only-of-type {\n",
       "        vertical-align: middle;\n",
       "    }\n",
       "\n",
       "    .dataframe tbody tr th {\n",
       "        vertical-align: top;\n",
       "    }\n",
       "\n",
       "    .dataframe thead th {\n",
       "        text-align: right;\n",
       "    }\n",
       "</style>\n",
       "<table border=\"1\" class=\"dataframe\">\n",
       "  <thead>\n",
       "    <tr style=\"text-align: right;\">\n",
       "      <th></th>\n",
       "      <th>review_text</th>\n",
       "      <th>sentiment</th>\n",
       "    </tr>\n",
       "  </thead>\n",
       "  <tbody>\n",
       "    <tr>\n",
       "      <th>2014</th>\n",
       "      <td>En la primera (Y en mi opinión mejor) película...</td>\n",
       "      <td>0</td>\n",
       "    </tr>\n",
       "  </tbody>\n",
       "</table>\n",
       "</div>"
      ],
      "text/plain": [
       "                                            review_text  sentiment\n",
       "2014  En la primera (Y en mi opinión mejor) película...          0"
      ]
     },
     "execution_count": 26,
     "metadata": {},
     "output_type": "execute_result"
    }
   ],
   "source": [
    "data_sent.sample()"
   ]
  },
  {
   "cell_type": "code",
   "execution_count": 27,
   "metadata": {},
   "outputs": [],
   "source": [
    "# En una nueva variable asigno 0 a los valores negativos y 1 a los valores positivos.\n",
    "c=[]\n",
    "for i in data_sent['sentiment']:\n",
    "    if i==2:\n",
    "        c.append(1)\n",
    "    if i==0:\n",
    "        c.append(0)\n",
    "data_sent['sentiment']=c"
   ]
  },
  {
   "cell_type": "code",
   "execution_count": 48,
   "metadata": {},
   "outputs": [
    {
     "data": {
      "text/html": [
       "<div>\n",
       "<style scoped>\n",
       "    .dataframe tbody tr th:only-of-type {\n",
       "        vertical-align: middle;\n",
       "    }\n",
       "\n",
       "    .dataframe tbody tr th {\n",
       "        vertical-align: top;\n",
       "    }\n",
       "\n",
       "    .dataframe thead th {\n",
       "        text-align: right;\n",
       "    }\n",
       "</style>\n",
       "<table border=\"1\" class=\"dataframe\">\n",
       "  <thead>\n",
       "    <tr style=\"text-align: right;\">\n",
       "      <th></th>\n",
       "      <th>review_text</th>\n",
       "      <th>sentiment</th>\n",
       "    </tr>\n",
       "  </thead>\n",
       "  <tbody>\n",
       "    <tr>\n",
       "      <th>4750</th>\n",
       "      <td>Comedia alocada, gamberra y disparatada, que m...</td>\n",
       "      <td>1</td>\n",
       "    </tr>\n",
       "    <tr>\n",
       "      <th>3107</th>\n",
       "      <td>Me obligaron (y cuando digo obligaron, es que ...</td>\n",
       "      <td>0</td>\n",
       "    </tr>\n",
       "    <tr>\n",
       "      <th>8122</th>\n",
       "      <td>Vamos destrozando canciones, por Dios que desa...</td>\n",
       "      <td>0</td>\n",
       "    </tr>\n",
       "    <tr>\n",
       "      <th>6655</th>\n",
       "      <td>Bueno, es evidente que cuando le hacen un golp...</td>\n",
       "      <td>1</td>\n",
       "    </tr>\n",
       "    <tr>\n",
       "      <th>3223</th>\n",
       "      <td>Ante las malas críticas que he estado observan...</td>\n",
       "      <td>1</td>\n",
       "    </tr>\n",
       "    <tr>\n",
       "      <th>7546</th>\n",
       "      <td>Si no tenemos en cuenta \"El proyecto de la bru...</td>\n",
       "      <td>0</td>\n",
       "    </tr>\n",
       "    <tr>\n",
       "      <th>783</th>\n",
       "      <td>Cuando los eventos superan las expectativas de...</td>\n",
       "      <td>1</td>\n",
       "    </tr>\n",
       "    <tr>\n",
       "      <th>4551</th>\n",
       "      <td>Aquí tenemos la continuación de la historia de...</td>\n",
       "      <td>0</td>\n",
       "    </tr>\n",
       "    <tr>\n",
       "      <th>6838</th>\n",
       "      <td>Alguien nos había dicho que esta era una pelíc...</td>\n",
       "      <td>0</td>\n",
       "    </tr>\n",
       "    <tr>\n",
       "      <th>5033</th>\n",
       "      <td>Otra vez Los Otros, pero esta vez no son habit...</td>\n",
       "      <td>1</td>\n",
       "    </tr>\n",
       "  </tbody>\n",
       "</table>\n",
       "</div>"
      ],
      "text/plain": [
       "                                            review_text  sentiment\n",
       "4750  Comedia alocada, gamberra y disparatada, que m...          1\n",
       "3107  Me obligaron (y cuando digo obligaron, es que ...          0\n",
       "8122  Vamos destrozando canciones, por Dios que desa...          0\n",
       "6655  Bueno, es evidente que cuando le hacen un golp...          1\n",
       "3223  Ante las malas críticas que he estado observan...          1\n",
       "7546  Si no tenemos en cuenta \"El proyecto de la bru...          0\n",
       "783   Cuando los eventos superan las expectativas de...          1\n",
       "4551  Aquí tenemos la continuación de la historia de...          0\n",
       "6838  Alguien nos había dicho que esta era una pelíc...          0\n",
       "5033  Otra vez Los Otros, pero esta vez no son habit...          1"
      ]
     },
     "execution_count": 48,
     "metadata": {},
     "output_type": "execute_result"
    }
   ],
   "source": [
    "data_sent.sample(10)"
   ]
  },
  {
   "cell_type": "code",
   "execution_count": 47,
   "metadata": {},
   "outputs": [
    {
     "data": {
      "image/png": "[encoded data removed]",
      "text/plain": [
       "<Figure size 640x480 with 1 Axes>"
      ]
     },
     "metadata": {},
     "output_type": "display_data"
    }
   ],
   "source": [
    "# Visualizar\n",
    "sns.countplot(data=data_sent, x='sentiment')\n",
    "plt.xlabel('Sentiment')\n",
    "plt.ylabel('Count')\n",
    "plt.title('Sentiment agrupado en dos niveles')\n",
    "plt.show()"
   ]
  },
  {
   "attachments": {},
   "cell_type": "markdown",
   "metadata": {},
   "source": [
    "## Construcción del modelo"
   ]
  },
  {
   "cell_type": "code",
   "execution_count": 52,
   "metadata": {},
   "outputs": [
    {
     "name": "stdout",
     "output_type": "stream",
     "text": [
      "<class 'pandas.core.frame.DataFrame'>\n",
      "Index: 4800 entries, 221 to 4355\n",
      "Data columns (total 2 columns):\n",
      " #   Column       Non-Null Count  Dtype \n",
      "---  ------       --------------  ----- \n",
      " 0   review_text  4800 non-null   object\n",
      " 1   sentiment    4800 non-null   int64 \n",
      "dtypes: int64(1), object(1)\n",
      "memory usage: 241.5+ KB\n"
     ]
    }
   ],
   "source": [
    "data_sent.info()"
   ]
  },
  {
   "cell_type": "code",
   "execution_count": 55,
   "metadata": {},
   "outputs": [],
   "source": [
    "# Eliminar signos\n",
    "def punc_clean(text):\n",
    "    punctuation = ''.join([c for c in st.punctuation if c != '´'])\n",
    "    a = [w for w in text if w not in punctuation]\n",
    "    return ''.join(a)\n",
    "\n",
    "data_sent['review_text'] = data_sent['review_text'].apply(punc_clean)\n"
   ]
  },
  {
   "cell_type": "code",
   "execution_count": 56,
   "metadata": {},
   "outputs": [
    {
     "data": {
      "text/html": [
       "<div>\n",
       "<style scoped>\n",
       "    .dataframe tbody tr th:only-of-type {\n",
       "        vertical-align: middle;\n",
       "    }\n",
       "\n",
       "    .dataframe tbody tr th {\n",
       "        vertical-align: top;\n",
       "    }\n",
       "\n",
       "    .dataframe thead th {\n",
       "        text-align: right;\n",
       "    }\n",
       "</style>\n",
       "<table border=\"1\" class=\"dataframe\">\n",
       "  <thead>\n",
       "    <tr style=\"text-align: right;\">\n",
       "      <th></th>\n",
       "      <th>review_text</th>\n",
       "      <th>sentiment</th>\n",
       "    </tr>\n",
       "  </thead>\n",
       "  <tbody>\n",
       "    <tr>\n",
       "      <th>221</th>\n",
       "      <td>Varios motivos por la que esta película saca u...</td>\n",
       "      <td>1</td>\n",
       "    </tr>\n",
       "    <tr>\n",
       "      <th>6779</th>\n",
       "      <td>La verdad es que me fui sorprendido del cine p...</td>\n",
       "      <td>1</td>\n",
       "    </tr>\n",
       "    <tr>\n",
       "      <th>6734</th>\n",
       "      <td>Yo no soy ningún fan de Guillermo del Toro es ...</td>\n",
       "      <td>1</td>\n",
       "    </tr>\n",
       "    <tr>\n",
       "      <th>3987</th>\n",
       "      <td>La mejor película que ha dado el cine español ...</td>\n",
       "      <td>1</td>\n",
       "    </tr>\n",
       "    <tr>\n",
       "      <th>3450</th>\n",
       "      <td>Siento disentir con todos pero a mí la películ...</td>\n",
       "      <td>1</td>\n",
       "    </tr>\n",
       "  </tbody>\n",
       "</table>\n",
       "</div>"
      ],
      "text/plain": [
       "                                            review_text  sentiment\n",
       "221   Varios motivos por la que esta película saca u...          1\n",
       "6779  La verdad es que me fui sorprendido del cine p...          1\n",
       "6734  Yo no soy ningún fan de Guillermo del Toro es ...          1\n",
       "3987  La mejor película que ha dado el cine español ...          1\n",
       "3450  Siento disentir con todos pero a mí la películ...          1"
      ]
     },
     "execution_count": 56,
     "metadata": {},
     "output_type": "execute_result"
    }
   ],
   "source": [
    "data_sent.head()"
   ]
  },
  {
   "cell_type": "code",
   "execution_count": 70,
   "metadata": {},
   "outputs": [],
   "source": [
    "# Eliminar palabras vacías\n",
    "def remove_stopwords(text):\n",
    "    stopword=nltk.corpus.stopwords.words('spanish')\n",
    "    stopword.remove('no')\n",
    "    a=[w for w in nltk.wordpunct_tokenize(text) if w not in stopword]\n",
    "    return ' '.join(a)\n",
    "data_sent['review_text'] = data_sent['review_text'].apply(remove_stopwords)"
   ]
  },
  {
   "cell_type": "code",
   "execution_count": 71,
   "metadata": {},
   "outputs": [
    {
     "data": {
      "text/html": [
       "<div>\n",
       "<style scoped>\n",
       "    .dataframe tbody tr th:only-of-type {\n",
       "        vertical-align: middle;\n",
       "    }\n",
       "\n",
       "    .dataframe tbody tr th {\n",
       "        vertical-align: top;\n",
       "    }\n",
       "\n",
       "    .dataframe thead th {\n",
       "        text-align: right;\n",
       "    }\n",
       "</style>\n",
       "<table border=\"1\" class=\"dataframe\">\n",
       "  <thead>\n",
       "    <tr style=\"text-align: right;\">\n",
       "      <th></th>\n",
       "      <th>review_text</th>\n",
       "      <th>sentiment</th>\n",
       "    </tr>\n",
       "  </thead>\n",
       "  <tbody>\n",
       "    <tr>\n",
       "      <th>221</th>\n",
       "      <td>Varios motivos película saca notable Porque pr...</td>\n",
       "      <td>1</td>\n",
       "    </tr>\n",
       "    <tr>\n",
       "      <th>6779</th>\n",
       "      <td>La verdad sorprendido cine sorpresa llena imag...</td>\n",
       "      <td>1</td>\n",
       "    </tr>\n",
       "    <tr>\n",
       "      <th>6734</th>\n",
       "      <td>Yo no ningún fan Guillermo Toro películas pare...</td>\n",
       "      <td>1</td>\n",
       "    </tr>\n",
       "    <tr>\n",
       "      <th>3987</th>\n",
       "      <td>La mejor película dado cine español últimos añ...</td>\n",
       "      <td>1</td>\n",
       "    </tr>\n",
       "    <tr>\n",
       "      <th>3450</th>\n",
       "      <td>Siento disentir película encantado Recreaestup...</td>\n",
       "      <td>1</td>\n",
       "    </tr>\n",
       "  </tbody>\n",
       "</table>\n",
       "</div>"
      ],
      "text/plain": [
       "                                            review_text  sentiment\n",
       "221   Varios motivos película saca notable Porque pr...          1\n",
       "6779  La verdad sorprendido cine sorpresa llena imag...          1\n",
       "6734  Yo no ningún fan Guillermo Toro películas pare...          1\n",
       "3987  La mejor película dado cine español últimos añ...          1\n",
       "3450  Siento disentir película encantado Recreaestup...          1"
      ]
     },
     "execution_count": 71,
     "metadata": {},
     "output_type": "execute_result"
    }
   ],
   "source": [
    "data_sent.head()"
   ]
  },
  {
   "cell_type": "code",
   "execution_count": 73,
   "metadata": {},
   "outputs": [],
   "source": [
    "# asignar palabra de texto con sentimientos \n",
    "\n",
    "vectr = TfidfVectorizer(ngram_range=(1,2),min_df=1)\n",
    "vectr.fit(data_sent['review_text'])\n",
    "\n",
    "vect_X = vectr.transform(data_sent['review_text'])"
   ]
  },
  {
   "cell_type": "code",
   "execution_count": 78,
   "metadata": {},
   "outputs": [],
   "source": [
    "# construir modelo de regresión lineal simple\n",
    "model = LogisticRegression()\n",
    "clf=model.fit(vect_X,data_sent['sentiment'])"
   ]
  },
  {
   "cell_type": "code",
   "execution_count": 79,
   "metadata": {},
   "outputs": [
    {
     "data": {
      "text/plain": [
       "array([0], dtype=int64)"
      ]
     },
     "execution_count": 79,
     "metadata": {},
     "output_type": "execute_result"
    }
   ],
   "source": [
    "# Probar modelo\n",
    "clf.predict(vectr.transform(['Amo el helado de chocolate con crema']))"
   ]
  },
  {
   "cell_type": "code",
   "execution_count": 80,
   "metadata": {},
   "outputs": [
    {
     "data": {
      "text/plain": [
       "array([1], dtype=int64)"
      ]
     },
     "execution_count": 80,
     "metadata": {},
     "output_type": "execute_result"
    }
   ],
   "source": [
    "clf.predict(vectr.transform(['Destesto las pelis comicas']))"
   ]
  },
  {
   "cell_type": "code",
   "execution_count": 81,
   "metadata": {},
   "outputs": [
    {
     "data": {
      "text/plain": [
       "array([0], dtype=int64)"
      ]
     },
     "execution_count": 81,
     "metadata": {},
     "output_type": "execute_result"
    }
   ],
   "source": [
    "clf.predict(vectr.transform(['No existen peliculas cómicas que sean buenas, todas son un fraude']))"
   ]
  },
  {
   "cell_type": "code",
   "execution_count": 82,
   "metadata": {},
   "outputs": [
    {
     "data": {
      "text/plain": [
       "array([0], dtype=int64)"
      ]
     },
     "execution_count": 82,
     "metadata": {},
     "output_type": "execute_result"
    }
   ],
   "source": [
    "clf.predict(vectr.transform(['Que perdida de tiempo con esta peli, dos horas tiradas a la basura']))"
   ]
  },
  {
   "cell_type": "code",
   "execution_count": 83,
   "metadata": {},
   "outputs": [
    {
     "name": "stdout",
     "output_type": "stream",
     "text": [
      "Precisión: 99.12%\n"
     ]
    }
   ],
   "source": [
    "# Evaluar precisión del modelo\n",
    "\n",
    "accuracy = model.score(vect_X, data_sent['sentiment']) * 100\n",
    "print('Precisión: {:.2f}%'.format(accuracy))"
   ]
  },
  {
   "cell_type": "code",
   "execution_count": 84,
   "metadata": {},
   "outputs": [
    {
     "data": {
      "text/plain": [
       "array([1], dtype=int64)"
      ]
     },
     "execution_count": 84,
     "metadata": {},
     "output_type": "execute_result"
    }
   ],
   "source": [
    "clf.predict(vectr.transform(['Sus trabajos me facinan siempre logra enganchar con su guión']))"
   ]
  },
  {
   "cell_type": "code",
   "execution_count": 89,
   "metadata": {},
   "outputs": [
    {
     "data": {
      "text/plain": [
       "array([0], dtype=int64)"
      ]
     },
     "execution_count": 89,
     "metadata": {},
     "output_type": "execute_result"
    }
   ],
   "source": [
    "\n",
    "\n",
    "clf.predict(vectr.transform(['Quiero cambiar los enlaces de teclas porque los valores predeterminados son culo']))"
   ]
  },
  {
   "cell_type": "code",
   "execution_count": 91,
   "metadata": {},
   "outputs": [
    {
     "data": {
      "text/plain": [
       "array([1], dtype=int64)"
      ]
     },
     "execution_count": 91,
     "metadata": {},
     "output_type": "execute_result"
    }
   ],
   "source": [
    "clf.predict(vectr.transform(['Algo que me molestó mucho del primero es el corte que hacen en la historia del primer juego para la batalla final , te quedabas con muchas dudas de la historia, este juego mejora bastante en la historia resolviendo varias dudas que me dejó el primer juego, volviendo a ver personajes muy buenos de la primera parte, la historia es buena pero el final lo dejan como para la tercera parte pero se siente bien, la música está bien, la jugabilidad y las nuevas criaturas mecánicas le dan un aire fresco , también las misiones me gustaron bastante. Lo malo algunos bugs visuales y algunos fallos en el juego que hacen que la play se apagará/congelará en su lanzamiento, luego lo arreglaron.']))"
   ]
  },
  {
   "attachments": {},
   "cell_type": "markdown",
   "metadata": {},
   "source": [
    "Para analisis de contenido"
   ]
  },
  {
   "cell_type": "code",
   "execution_count": 92,
   "metadata": {},
   "outputs": [
    {
     "data": {
      "text/plain": [
       "'La mayor virtud de esta película es su existencia.El hecho de que podamos jugar con los tópicos más extremos de las identidades patrias (la andaluza y la vasca) sin que nadie se escandalice ni ponga el grito en el cielo, indica mucho de nuestra madurez como nación (pese a quien pese). Bueno, corrijo: el hecho de que podamos jugar y hacer mofa y befa de los tópicos sobre los vascos y el nacionalismo vasco, sin que nadie se escandalice ni ponga el grito en el cielo, indica mucho del grado de normalización de ciertas cuestiones que antes eran llagas abiertas siempre dispuestas a sangrar. Y hago esta corrección, porque los andaluces han sido motivo de guasa siempre y nunca ha pasado nada.Por esto mismo, el planteamiento de \"Ocho Apellidos Vascos\" es valiente, es oportuno y es oportunista. Seguramente sea esa una de las principales razones por la que los españoles hemos acudido en masa, en una masa casi sin precedentes, a los cines a ver este producto patrocinado por Tele 5. Esa junto con la acertada fecha de estreno (entre los oscar y los blockbusters del verano) y la brutal y ejemplar campaña de marketing, la cual aplaudo y celebro.Eso es todo lo que puedo celebrar de este despropósito, muy a mi pesar.Siempre digo y repito eso de \"el oscuro placer de ver películas malas y disfrutarlas\", y siempre insisto en que \"no hay que olvidar que el principal propósito del cine es entretener\". Lo digo y lo mantengo. El problema es que \"Ocho Apelidos Vascos\" no es lo suficientemente mala, ni lo suficientemente friki, ni lo suficientemente disparatada para ser una \"Peli Mala\"(como Sharknado, o Xanadu o Condemor). Y desgraciadamente no es lo suficientemente entretenida para perdonarle su mediocridad (siempre desde mi punto de vista).Esa es precisamente la palabra que mejor la define: \"Mediocridad\". Es dolorosamente mediocre. Es simple, que no sencilla. Es impersonal y lo peor: está hecha sin ganas.Funciona porque el planteamiento interesa, y no por novedoso (sacar un elemento de su entorno e introducirlo en otro totalmente ajeno y hostil es uno de los argumentos básicos en la comedia desde que el cine es cine), sino por lo que explicaba al principio.Pero todos los demás elementos apenas encajan, o no lo hacen en absoluto. Toda la película es una caída en picado desde un comienzo prometedor a un final vergonzoso, pasando por todas las situaciones \"cómicas\" de manual y todos los tópicos más manidos de la comedia de enredo. Que sí, César, que ya te oigo replicarme: \"que todas las historias están ya contadas\". Tienes  toda la razón, pero se pueden seguir contando con un poco de ganas, o al menos de formas, si no originales, sí convincentes. Y volvemos al principal problema de gran parte del cine patrio (y mucho foráneo): el guión. La mayoría de los directores confunden el argumento con el guión. El argumento es el planteamiento, el guión el desarrollo. Una grandísima parte de las películas españolas que llevo años sufriendo se desinflan, con suerte, a la mitad de su recorrido. Pocos son los cineastas que se molestan en desarrollar sus historias, menos aún en rematarlas y en hacer que las cosas encajen. Parece que en las escuelas de cine que surgen como champiñones en este país nuestro, se olvidan de poner \"El Guión\" como asignatura.La que nos ocupa hoy es un ejemplo más: hay un planteamiento interesante, aunque torpemente presentado, y ante la incapacidad (o la falta de ganas) de su director de desarrollarlo de una manera convincente (o alocadamente convincente) se refugia en un enredo de principiante, del cual no sabe cómo salir, aunque todos intuímos (y tememos) desde el principio cómo lo va a hacer: a la fuerza y sin lubricante.Lo que salva este producto del descalabro total es el monologuista Dani Rovira, con sus inspirados monólogos y su desparpajo, y Karra Elejalde dando vida la único personaje creíble de toda la historia. Carmen Machi muy bien haciendo de Carmen Machi, y de Clara Lago...llamarla actriz sería insultar al resto de la profesión (Elsa Pataki incluída).Aún con todo: - sí, hay unas cuantas situaciones capaces de arrancar risas, e incluso carcajadas y - sí, resulta entretenida (a ratos). Pero me duele pensar que ésto es lo que el público está esperando del cine español para llenar las salas. Me duele pensar que el cine también, como casi todos los ámbitos de poder, está en manos de los mediocres. Y me duele pensar que sean los sub-productos como este los que vayan a salvar al cine español de las aguas en que él sólo se ha sumergido.Robándole una cita a mi amigo Regino Mateo y parafraseándola: \"no es lo mismo hacer películas que hacer cine\"'"
      ]
     },
     "execution_count": 92,
     "metadata": {},
     "output_type": "execute_result"
    }
   ],
   "source": [
    "final_dataset.review_text[0]"
   ]
  },
  {
   "cell_type": "code",
   "execution_count": 93,
   "metadata": {},
   "outputs": [
    {
     "data": {
      "text/plain": [
       "'No soy un experto cinéfilo, pero pocas veces me había sentido tan fuera de juego en una sala de cine: un auténtico perro verde. Leyendo las críticas en Filmaffinity, esta sensación se acrecienta, y voy cogiendo tonos atornasolados. La película no me gustó (con la honrosa excepción de alguna situación francamente buena): las bromas oscilaban entre \"muy fáciles\" y \"todavía más fáciles\" y la sobreactuación caricaturesca de los actores me exasperaba; esforzándome por contagiarme de las constantes risas que me rodeaban y de aquella señora de la última fila que disfrutaba de la película de su vida... pero fui incapaz.O me hago mayor y se me está agriando el carácter y no tengo el buen humor del que solía fanfarronear o... ¡hay algo que se me escapa!.Justo después de terminar de ver Breaking Bad (nada que ver en cuanto a género, por supuesto) me enfrento a este engendro y se me cae el alma a los pies... pero el tema empeora después de leer algunas críticas en las que se ensalza la frescura del guión y... la figura salvadora de esta película para la industria cinematográfica patria!Aaaagg... por favor, ¡decidme que no me estoy volviendo loco! ¿¿De verdad es tan buena y me lo he perdido??'"
      ]
     },
     "execution_count": 93,
     "metadata": {},
     "output_type": "execute_result"
    }
   ],
   "source": [
    "final_dataset.review_text[1]"
   ]
  },
  {
   "cell_type": "code",
   "execution_count": 94,
   "metadata": {},
   "outputs": [
    {
     "data": {
      "text/plain": [
       "'Si no eres un incondicional del humor estilo Tele 5.Si no terminas de captar de qué se ríen los adolescentes granulentos de tu familia.Si eres más de David Navarro que de Dani Rovira.Si lo de \"Euskadi tiene un color especial\" no te parece el hallazgo del siglo.Si con el Risitas y el Peíto has sentido alguna vez vergüenza ajena.Si te da repelús que algunos alaben esta película por su \"valentía\".Si no crees que haya que ser una Juana de Arco para explotar topicazos.Si \"Bienvenidos al Norte\" te pareció una puta chorrada.Si te importa un huevo que te digan que no tienes sentido del humor.Si Emilio Martínez-Lázaro te parece un director-despojo.Si te avergüenzan los índices de audiencia de la televisión de este país.Si no acostumbras a comer mierda.... No te comas esta mierda.'"
      ]
     },
     "execution_count": 94,
     "metadata": {},
     "output_type": "execute_result"
    }
   ],
   "source": [
    "final_dataset.review_text[2]"
   ]
  },
  {
   "cell_type": "code",
   "execution_count": 96,
   "metadata": {},
   "outputs": [
    {
     "data": {
      "text/html": [
       "<div>\n",
       "<style scoped>\n",
       "    .dataframe tbody tr th:only-of-type {\n",
       "        vertical-align: middle;\n",
       "    }\n",
       "\n",
       "    .dataframe tbody tr th {\n",
       "        vertical-align: top;\n",
       "    }\n",
       "\n",
       "    .dataframe thead th {\n",
       "        text-align: right;\n",
       "    }\n",
       "</style>\n",
       "<table border=\"1\" class=\"dataframe\">\n",
       "  <thead>\n",
       "    <tr style=\"text-align: right;\">\n",
       "      <th></th>\n",
       "      <th>film_name</th>\n",
       "      <th>gender</th>\n",
       "      <th>film_avg_rate</th>\n",
       "      <th>review_rate</th>\n",
       "      <th>review_title</th>\n",
       "      <th>review_text</th>\n",
       "      <th>value_rate</th>\n",
       "      <th>sentiment</th>\n",
       "    </tr>\n",
       "  </thead>\n",
       "  <tbody>\n",
       "    <tr>\n",
       "      <th>0</th>\n",
       "      <td>Ocho apellidos vascos</td>\n",
       "      <td>Comedia</td>\n",
       "      <td>6.0</td>\n",
       "      <td>3.0</td>\n",
       "      <td>OCHO APELLIDOS VASCOS...Y NINGÚN NOMBRE PROPIO</td>\n",
       "      <td>La mayor virtud de esta película es su existen...</td>\n",
       "      <td>Negative</td>\n",
       "      <td>0</td>\n",
       "    </tr>\n",
       "    <tr>\n",
       "      <th>1</th>\n",
       "      <td>Ocho apellidos vascos</td>\n",
       "      <td>Comedia</td>\n",
       "      <td>6.0</td>\n",
       "      <td>2.0</td>\n",
       "      <td>El perro verde</td>\n",
       "      <td>No soy un experto cinéfilo, pero pocas veces m...</td>\n",
       "      <td>Negative</td>\n",
       "      <td>0</td>\n",
       "    </tr>\n",
       "    <tr>\n",
       "      <th>2</th>\n",
       "      <td>Ocho apellidos vascos</td>\n",
       "      <td>Comedia</td>\n",
       "      <td>6.0</td>\n",
       "      <td>2.0</td>\n",
       "      <td>Si no eres de comer mierda... no te comas esta...</td>\n",
       "      <td>Si no eres un incondicional del humor estilo T...</td>\n",
       "      <td>Negative</td>\n",
       "      <td>0</td>\n",
       "    </tr>\n",
       "    <tr>\n",
       "      <th>3</th>\n",
       "      <td>Ocho apellidos vascos</td>\n",
       "      <td>Comedia</td>\n",
       "      <td>6.0</td>\n",
       "      <td>2.0</td>\n",
       "      <td>Aida: The movie</td>\n",
       "      <td>No sé qué está pasando, si la gente se deja ll...</td>\n",
       "      <td>Negative</td>\n",
       "      <td>0</td>\n",
       "    </tr>\n",
       "    <tr>\n",
       "      <th>4</th>\n",
       "      <td>Ocho apellidos vascos</td>\n",
       "      <td>Comedia</td>\n",
       "      <td>6.0</td>\n",
       "      <td>2.0</td>\n",
       "      <td>UN HOMBRE SOLO (Julio Iglesias 1987)</td>\n",
       "      <td>Pero cuando amanece,y me quedo solo,siento en ...</td>\n",
       "      <td>Negative</td>\n",
       "      <td>0</td>\n",
       "    </tr>\n",
       "  </tbody>\n",
       "</table>\n",
       "</div>"
      ],
      "text/plain": [
       "               film_name   gender  film_avg_rate  review_rate   \n",
       "0  Ocho apellidos vascos  Comedia            6.0          3.0  \\\n",
       "1  Ocho apellidos vascos  Comedia            6.0          2.0   \n",
       "2  Ocho apellidos vascos  Comedia            6.0          2.0   \n",
       "3  Ocho apellidos vascos  Comedia            6.0          2.0   \n",
       "4  Ocho apellidos vascos  Comedia            6.0          2.0   \n",
       "\n",
       "                                        review_title   \n",
       "0     OCHO APELLIDOS VASCOS...Y NINGÚN NOMBRE PROPIO  \\\n",
       "1                                     El perro verde   \n",
       "2  Si no eres de comer mierda... no te comas esta...   \n",
       "3                                    Aida: The movie   \n",
       "4               UN HOMBRE SOLO (Julio Iglesias 1987)   \n",
       "\n",
       "                                         review_text value_rate  sentiment  \n",
       "0  La mayor virtud de esta película es su existen...   Negative          0  \n",
       "1  No soy un experto cinéfilo, pero pocas veces m...   Negative          0  \n",
       "2  Si no eres un incondicional del humor estilo T...   Negative          0  \n",
       "3  No sé qué está pasando, si la gente se deja ll...   Negative          0  \n",
       "4  Pero cuando amanece,y me quedo solo,siento en ...   Negative          0  "
      ]
     },
     "execution_count": 96,
     "metadata": {},
     "output_type": "execute_result"
    }
   ],
   "source": [
    "data.head()"
   ]
  },
  {
   "cell_type": "code",
   "execution_count": 97,
   "metadata": {},
   "outputs": [
    {
     "data": {
      "text/plain": [
       "3.0"
      ]
     },
     "execution_count": 97,
     "metadata": {},
     "output_type": "execute_result"
    }
   ],
   "source": [
    "data.review_rate[0]"
   ]
  },
  {
   "cell_type": "code",
   "execution_count": 98,
   "metadata": {},
   "outputs": [
    {
     "data": {
      "text/plain": [
       "2.0"
      ]
     },
     "execution_count": 98,
     "metadata": {},
     "output_type": "execute_result"
    }
   ],
   "source": [
    "data.review_rate[1]"
   ]
  },
  {
   "cell_type": "code",
   "execution_count": 99,
   "metadata": {},
   "outputs": [
    {
     "data": {
      "text/plain": [
       "2.0"
      ]
     },
     "execution_count": 99,
     "metadata": {},
     "output_type": "execute_result"
    }
   ],
   "source": [
    "data.review_rate[2]"
   ]
  },
  {
   "cell_type": "code",
   "execution_count": 105,
   "metadata": {},
   "outputs": [
    {
     "data": {
      "text/html": [
       "<div>\n",
       "<style scoped>\n",
       "    .dataframe tbody tr th:only-of-type {\n",
       "        vertical-align: middle;\n",
       "    }\n",
       "\n",
       "    .dataframe tbody tr th {\n",
       "        vertical-align: top;\n",
       "    }\n",
       "\n",
       "    .dataframe thead th {\n",
       "        text-align: right;\n",
       "    }\n",
       "</style>\n",
       "<table border=\"1\" class=\"dataframe\">\n",
       "  <thead>\n",
       "    <tr style=\"text-align: right;\">\n",
       "      <th></th>\n",
       "      <th>film_name</th>\n",
       "      <th>gender</th>\n",
       "      <th>film_avg_rate</th>\n",
       "      <th>review_rate</th>\n",
       "      <th>review_title</th>\n",
       "      <th>review_text</th>\n",
       "      <th>value_rate</th>\n",
       "      <th>sentiment</th>\n",
       "    </tr>\n",
       "  </thead>\n",
       "  <tbody>\n",
       "    <tr>\n",
       "      <th>2231</th>\n",
       "      <td>Perfectos desconocidos</td>\n",
       "      <td>Comedia</td>\n",
       "      <td>6.4</td>\n",
       "      <td>9.0</td>\n",
       "      <td>Excelente ,</td>\n",
       "      <td>Excelente,entretenida,amena,divertida.Te engan...</td>\n",
       "      <td>Positive</td>\n",
       "      <td>2</td>\n",
       "    </tr>\n",
       "    <tr>\n",
       "      <th>8011</th>\n",
       "      <td>El bola</td>\n",
       "      <td>Drama</td>\n",
       "      <td>7.0</td>\n",
       "      <td>9.0</td>\n",
       "      <td>Una de las tres mejores películas españolas de...</td>\n",
       "      <td>El bola es un film modesto, pues no tiene ínfu...</td>\n",
       "      <td>Positive</td>\n",
       "      <td>2</td>\n",
       "    </tr>\n",
       "    <tr>\n",
       "      <th>6454</th>\n",
       "      <td>El laberinto del fauno</td>\n",
       "      <td>Fantástico</td>\n",
       "      <td>7.2</td>\n",
       "      <td>8.0</td>\n",
       "      <td>Magnífico laberinto</td>\n",
       "      <td>No se puede juzgar una película única y exclus...</td>\n",
       "      <td>Positive</td>\n",
       "      <td>2</td>\n",
       "    </tr>\n",
       "    <tr>\n",
       "      <th>5383</th>\n",
       "      <td>Volver</td>\n",
       "      <td>Drama</td>\n",
       "      <td>7.1</td>\n",
       "      <td>4.0</td>\n",
       "      <td>más de lo mismo</td>\n",
       "      <td>Más Almodovar, más mismas actrices de siempre…...</td>\n",
       "      <td>Negative</td>\n",
       "      <td>0</td>\n",
       "    </tr>\n",
       "    <tr>\n",
       "      <th>3730</th>\n",
       "      <td>Alatriste</td>\n",
       "      <td>Aventuras</td>\n",
       "      <td>5.5</td>\n",
       "      <td>8.0</td>\n",
       "      <td>Por qué todo en uno??</td>\n",
       "      <td>Soy fan de Alatriste. Lógicamente he leído tod...</td>\n",
       "      <td>Positive</td>\n",
       "      <td>2</td>\n",
       "    </tr>\n",
       "    <tr>\n",
       "      <th>5349</th>\n",
       "      <td>Perdiendo el norte</td>\n",
       "      <td>Comedia</td>\n",
       "      <td>5.0</td>\n",
       "      <td>10.0</td>\n",
       "      <td>SOLO APTA PARA LOS QUE QUIERAN REIRSE SIN PARAR</td>\n",
       "      <td>He ido a ver esta pelicula, un poco reacia deb...</td>\n",
       "      <td>Positive</td>\n",
       "      <td>2</td>\n",
       "    </tr>\n",
       "    <tr>\n",
       "      <th>1720</th>\n",
       "      <td>Ágora</td>\n",
       "      <td>Aventuras</td>\n",
       "      <td>6.5</td>\n",
       "      <td>3.0</td>\n",
       "      <td>AGOtadoRA</td>\n",
       "      <td>Ya estamos otra vez con las polémicas. Esta ma...</td>\n",
       "      <td>Negative</td>\n",
       "      <td>0</td>\n",
       "    </tr>\n",
       "    <tr>\n",
       "      <th>1931</th>\n",
       "      <td>Ágora</td>\n",
       "      <td>Aventuras</td>\n",
       "      <td>6.5</td>\n",
       "      <td>4.0</td>\n",
       "      <td>Mucha espectacularidad,poco guión</td>\n",
       "      <td>Ágora prometía espectacularidad a raudales, en...</td>\n",
       "      <td>Negative</td>\n",
       "      <td>0</td>\n",
       "    </tr>\n",
       "    <tr>\n",
       "      <th>7031</th>\n",
       "      <td>Los crímenes de Oxford</td>\n",
       "      <td>Intriga</td>\n",
       "      <td>5.7</td>\n",
       "      <td>3.0</td>\n",
       "      <td>Bastante pobre.</td>\n",
       "      <td>Suele decirse que el libro es mejor que la ada...</td>\n",
       "      <td>Negative</td>\n",
       "      <td>0</td>\n",
       "    </tr>\n",
       "    <tr>\n",
       "      <th>6751</th>\n",
       "      <td>El laberinto del fauno</td>\n",
       "      <td>Fantástico</td>\n",
       "      <td>7.2</td>\n",
       "      <td>9.0</td>\n",
       "      <td>Sorpresas tras los muros del laberinto</td>\n",
       "      <td>Un filme de una truculencia contundente y al m...</td>\n",
       "      <td>Positive</td>\n",
       "      <td>2</td>\n",
       "    </tr>\n",
       "  </tbody>\n",
       "</table>\n",
       "</div>"
      ],
      "text/plain": [
       "                   film_name      gender  film_avg_rate  review_rate   \n",
       "2231  Perfectos desconocidos     Comedia            6.4          9.0  \\\n",
       "8011                 El bola       Drama            7.0          9.0   \n",
       "6454  El laberinto del fauno  Fantástico            7.2          8.0   \n",
       "5383                  Volver       Drama            7.1          4.0   \n",
       "3730               Alatriste   Aventuras            5.5          8.0   \n",
       "5349      Perdiendo el norte     Comedia            5.0         10.0   \n",
       "1720                   Ágora   Aventuras            6.5          3.0   \n",
       "1931                   Ágora   Aventuras            6.5          4.0   \n",
       "7031  Los crímenes de Oxford     Intriga            5.7          3.0   \n",
       "6751  El laberinto del fauno  Fantástico            7.2          9.0   \n",
       "\n",
       "                                           review_title   \n",
       "2231                                        Excelente ,  \\\n",
       "8011  Una de las tres mejores películas españolas de...   \n",
       "6454                                Magnífico laberinto   \n",
       "5383                                    más de lo mismo   \n",
       "3730                              Por qué todo en uno??   \n",
       "5349    SOLO APTA PARA LOS QUE QUIERAN REIRSE SIN PARAR   \n",
       "1720                                          AGOtadoRA   \n",
       "1931                  Mucha espectacularidad,poco guión   \n",
       "7031                                    Bastante pobre.   \n",
       "6751             Sorpresas tras los muros del laberinto   \n",
       "\n",
       "                                            review_text value_rate  sentiment  \n",
       "2231  Excelente,entretenida,amena,divertida.Te engan...   Positive          2  \n",
       "8011  El bola es un film modesto, pues no tiene ínfu...   Positive          2  \n",
       "6454  No se puede juzgar una película única y exclus...   Positive          2  \n",
       "5383  Más Almodovar, más mismas actrices de siempre…...   Negative          0  \n",
       "3730  Soy fan de Alatriste. Lógicamente he leído tod...   Positive          2  \n",
       "5349  He ido a ver esta pelicula, un poco reacia deb...   Positive          2  \n",
       "1720  Ya estamos otra vez con las polémicas. Esta ma...   Negative          0  \n",
       "1931  Ágora prometía espectacularidad a raudales, en...   Negative          0  \n",
       "7031  Suele decirse que el libro es mejor que la ada...   Negative          0  \n",
       "6751  Un filme de una truculencia contundente y al m...   Positive          2  "
      ]
     },
     "execution_count": 105,
     "metadata": {},
     "output_type": "execute_result"
    }
   ],
   "source": [
    "data.sample(10)"
   ]
  },
  {
   "cell_type": "code",
   "execution_count": 106,
   "metadata": {},
   "outputs": [
    {
     "data": {
      "text/plain": [
       "'Excelente,entretenida,amena,divertida.Te engancha desde el minuto uno.Toca todos los temas de actualidad . El reparto es muy bueno y todos representan el papel a la perfección.'"
      ]
     },
     "execution_count": 106,
     "metadata": {},
     "output_type": "execute_result"
    }
   ],
   "source": [
    "data.review_text[2231]"
   ]
  },
  {
   "cell_type": "code",
   "execution_count": 107,
   "metadata": {},
   "outputs": [
    {
     "data": {
      "text/plain": [
       "'Soy fan de Alatriste. Lógicamente he leído todas las entregas (con mi obvia cara de asombro cuando, en la parte final de la película, empecé a ver historia que era totalmente desconocida para mi), y por ello me ha decepcionado mucho que se haya contado toda la historia en una misma entrega cinematográfica.Después de ver la excelente forma que se ha conseguido en la película y lo bien adaptados que están la mayoría de los personajes relevantes, pienso que se ha perdido mucho potencial de entretenimiento y de creatividad acortando la historia de una manera tan \"bestial\" como lo han hecho.Me ha sabido a poco... Era un trabajo que, realizado en varias partes, podría habernos hecho disfrutar más y durante más tiempo.'"
      ]
     },
     "execution_count": 107,
     "metadata": {},
     "output_type": "execute_result"
    }
   ],
   "source": [
    "data.review_text[3730]"
   ]
  },
  {
   "cell_type": "code",
   "execution_count": 108,
   "metadata": {},
   "outputs": [
    {
     "data": {
      "text/plain": [
       "'Más Almodovar, más mismas actrices de siempre…no sería mejor intentar con nuevos actores que dieran más realismo al almodovarismo. Penélope está más lucida que en otras ocasiones pero no ha cortado una cebolla en su vida y por lo visto, el señor Director tampoco. La escena del congelador es impactante por lo mal hecha que está, bueno… ¡qué decir de este sobrevalorado cineasta español!.'"
      ]
     },
     "execution_count": 108,
     "metadata": {},
     "output_type": "execute_result"
    }
   ],
   "source": [
    "data.review_text[5383]"
   ]
  }
 ],
 "metadata": {
  "kernelspec": {
   "display_name": "ReviewProject",
   "language": "python",
   "name": "python3"
  },
  "language_info": {
   "codemirror_mode": {
    "name": "ipython",
    "version": 3
   },
   "file_extension": ".py",
   "mimetype": "text/x-python",
   "name": "python",
   "nbconvert_exporter": "python",
   "pygments_lexer": "ipython3",
   "version": "3.11.3"
  },
  "orig_nbformat": 4
 },
 "nbformat": 4,
 "nbformat_minor": 2
}
