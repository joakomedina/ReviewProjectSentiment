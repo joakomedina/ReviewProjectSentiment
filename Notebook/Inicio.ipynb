{
 "cells": [
  {
   "attachments": {},
   "cell_type": "markdown",
   "metadata": {},
   "source": [
    "### Introducción\n",
    "El objetivo final de este proyecto es predecir el sentimiento de un texto dado usando python, donde usamos NLTK, también conocido como Natural Language Processing Toolkit y de ser posible precisar el impacto causado por los comentarios positivos y negativos sobre un determinado comportamiento.\n",
    "\n",
    "* Para este proyecto, importaremos un conjunto de librerías que se muestran a continuación\n",
    "* Importaremos el conjunto de datos\n",
    "* Realizaremos limpieza, formateo y visualización de los datos\n",
    "* Construcción del modelo\n",
    "* Predicción\n",
    "* Medición de impacto "
   ]
  },
  {
   "cell_type": "code",
   "execution_count": 3,
   "metadata": {},
   "outputs": [],
   "source": [
    "# Importar librerías\n",
    "from bs4 import BeautifulSoup\n",
    "import numpy as np\n",
    "import pandas as pd\n",
    "import matplotlib.pyplot as plt\n",
    "import seaborn as sns\n",
    "import nltk\n",
    "import sklearn\n",
    "\n",
    "from sklearn.feature_extraction.text import CountVectorizer\n",
    "from sklearn.model_selection import train_test_split\n",
    "from sklearn.linear_model import LogisticRegression"
   ]
  },
  {
   "cell_type": "code",
   "execution_count": 23,
   "metadata": {},
   "outputs": [],
   "source": [
    "# Importar datos\n",
    "data = pd.read_csv('C:\\\\Users\\\\Joako\\\\Documents\\\\AnalisisDatos\\\\ReviewProject\\\\DatosOriginales\\\\reviews_filmaffinity.csv', delimiter='|', header=0)"
   ]
  },
  {
   "cell_type": "code",
   "execution_count": 24,
   "metadata": {},
   "outputs": [
    {
     "data": {
      "text/plain": [
       "(8591, 6)"
      ]
     },
     "execution_count": 24,
     "metadata": {},
     "output_type": "execute_result"
    }
   ],
   "source": [
    "data.shape"
   ]
  },
  {
   "cell_type": "code",
   "execution_count": 25,
   "metadata": {},
   "outputs": [
    {
     "name": "stdout",
     "output_type": "stream",
     "text": [
      "<class 'pandas.core.frame.DataFrame'>\n",
      "RangeIndex: 8591 entries, 0 to 8590\n",
      "Data columns (total 6 columns):\n",
      " #   Column         Non-Null Count  Dtype  \n",
      "---  ------         --------------  -----  \n",
      " 0   film_name      8591 non-null   object \n",
      " 1   gender         8591 non-null   object \n",
      " 2   film_avg_rate  8591 non-null   object \n",
      " 3   review_rate    8589 non-null   float64\n",
      " 4   review_title   8591 non-null   object \n",
      " 5   review_text    8591 non-null   object \n",
      "dtypes: float64(1), object(5)\n",
      "memory usage: 402.8+ KB\n"
     ]
    }
   ],
   "source": [
    "data.info()"
   ]
  },
  {
   "cell_type": "code",
   "execution_count": 26,
   "metadata": {},
   "outputs": [
    {
     "data": {
      "text/html": [
       "<div>\n",
       "<style scoped>\n",
       "    .dataframe tbody tr th:only-of-type {\n",
       "        vertical-align: middle;\n",
       "    }\n",
       "\n",
       "    .dataframe tbody tr th {\n",
       "        vertical-align: top;\n",
       "    }\n",
       "\n",
       "    .dataframe thead th {\n",
       "        text-align: right;\n",
       "    }\n",
       "</style>\n",
       "<table border=\"1\" class=\"dataframe\">\n",
       "  <thead>\n",
       "    <tr style=\"text-align: right;\">\n",
       "      <th></th>\n",
       "      <th>film_name</th>\n",
       "      <th>gender</th>\n",
       "      <th>film_avg_rate</th>\n",
       "      <th>review_rate</th>\n",
       "      <th>review_title</th>\n",
       "      <th>review_text</th>\n",
       "    </tr>\n",
       "  </thead>\n",
       "  <tbody>\n",
       "    <tr>\n",
       "      <th>0</th>\n",
       "      <td>Ocho apellidos vascos</td>\n",
       "      <td>Comedia</td>\n",
       "      <td>6,0</td>\n",
       "      <td>3.0</td>\n",
       "      <td>OCHO APELLIDOS VASCOS...Y NINGÚN NOMBRE PROPIO</td>\n",
       "      <td>La mayor virtud de esta película es su existen...</td>\n",
       "    </tr>\n",
       "    <tr>\n",
       "      <th>1</th>\n",
       "      <td>Ocho apellidos vascos</td>\n",
       "      <td>Comedia</td>\n",
       "      <td>6,0</td>\n",
       "      <td>2.0</td>\n",
       "      <td>El perro verde</td>\n",
       "      <td>No soy un experto cinéfilo, pero pocas veces m...</td>\n",
       "    </tr>\n",
       "    <tr>\n",
       "      <th>2</th>\n",
       "      <td>Ocho apellidos vascos</td>\n",
       "      <td>Comedia</td>\n",
       "      <td>6,0</td>\n",
       "      <td>2.0</td>\n",
       "      <td>Si no eres de comer mierda... no te comas esta...</td>\n",
       "      <td>Si no eres un incondicional del humor estilo T...</td>\n",
       "    </tr>\n",
       "    <tr>\n",
       "      <th>3</th>\n",
       "      <td>Ocho apellidos vascos</td>\n",
       "      <td>Comedia</td>\n",
       "      <td>6,0</td>\n",
       "      <td>2.0</td>\n",
       "      <td>Aida: The movie</td>\n",
       "      <td>No sé qué está pasando, si la gente se deja ll...</td>\n",
       "    </tr>\n",
       "    <tr>\n",
       "      <th>4</th>\n",
       "      <td>Ocho apellidos vascos</td>\n",
       "      <td>Comedia</td>\n",
       "      <td>6,0</td>\n",
       "      <td>2.0</td>\n",
       "      <td>UN HOMBRE SOLO (Julio Iglesias 1987)</td>\n",
       "      <td>Pero cuando amanece,y me quedo solo,siento en ...</td>\n",
       "    </tr>\n",
       "  </tbody>\n",
       "</table>\n",
       "</div>"
      ],
      "text/plain": [
       "               film_name   gender film_avg_rate  review_rate   \n",
       "0  Ocho apellidos vascos  Comedia           6,0          3.0  \\\n",
       "1  Ocho apellidos vascos  Comedia           6,0          2.0   \n",
       "2  Ocho apellidos vascos  Comedia           6,0          2.0   \n",
       "3  Ocho apellidos vascos  Comedia           6,0          2.0   \n",
       "4  Ocho apellidos vascos  Comedia           6,0          2.0   \n",
       "\n",
       "                                        review_title   \n",
       "0     OCHO APELLIDOS VASCOS...Y NINGÚN NOMBRE PROPIO  \\\n",
       "1                                     El perro verde   \n",
       "2  Si no eres de comer mierda... no te comas esta...   \n",
       "3                                    Aida: The movie   \n",
       "4               UN HOMBRE SOLO (Julio Iglesias 1987)   \n",
       "\n",
       "                                         review_text  \n",
       "0  La mayor virtud de esta película es su existen...  \n",
       "1  No soy un experto cinéfilo, pero pocas veces m...  \n",
       "2  Si no eres un incondicional del humor estilo T...  \n",
       "3  No sé qué está pasando, si la gente se deja ll...  \n",
       "4  Pero cuando amanece,y me quedo solo,siento en ...  "
      ]
     },
     "execution_count": 26,
     "metadata": {},
     "output_type": "execute_result"
    }
   ],
   "source": [
    "data.head()"
   ]
  },
  {
   "cell_type": "code",
   "execution_count": 27,
   "metadata": {},
   "outputs": [
    {
     "data": {
      "text/plain": [
       "film_name        0\n",
       "gender           0\n",
       "film_avg_rate    0\n",
       "review_rate      2\n",
       "review_title     0\n",
       "review_text      0\n",
       "dtype: int64"
      ]
     },
     "execution_count": 27,
     "metadata": {},
     "output_type": "execute_result"
    }
   ],
   "source": [
    "# Encontrar nulos\n",
    "data.isnull().sum()"
   ]
  },
  {
   "cell_type": "code",
   "execution_count": 28,
   "metadata": {},
   "outputs": [],
   "source": [
    "# Eliminar nulos\n",
    "data=data.dropna()"
   ]
  },
  {
   "cell_type": "code",
   "execution_count": 29,
   "metadata": {},
   "outputs": [
    {
     "name": "stdout",
     "output_type": "stream",
     "text": [
      "['6,0' '6,8' '4,4' '6,7' '4,8' '5,3' '6,5' '6,4' '7,2' '4,2' '6,9' '3,7'\n",
      " '5,7' '5,5' '7,7' '6,1' '5,8' '5,2' '5,4' '4,6' '5,0' '7,1' '3,9' '4,7'\n",
      " '5,1' '6,2' '6,6' '7,0']\n"
     ]
    }
   ],
   "source": [
    "# Comprobando datos de la columna y noto que los valores contienen una coma y además son objetos. \n",
    "film=data['film_avg_rate'].unique()\n",
    "print(film)\n"
   ]
  },
  {
   "cell_type": "code",
   "execution_count": 30,
   "metadata": {},
   "outputs": [],
   "source": [
    "# La columna film_avg_rate La convierto en float y remplazo ',' por '.'\n",
    "data['film_avg_rate'] = data['film_avg_rate'].str.replace(',', '.').astype(float)\n"
   ]
  },
  {
   "cell_type": "code",
   "execution_count": 31,
   "metadata": {},
   "outputs": [
    {
     "name": "stdout",
     "output_type": "stream",
     "text": [
      "[ 3.  2.  8.  1.  6.  4.  5.  7.  9. 10.]\n"
     ]
    }
   ],
   "source": [
    "# comprobar rango de puntajes en la columna review_rate\n",
    "rate=data['review_rate'].unique()\n",
    "print(rate)"
   ]
  },
  {
   "cell_type": "code",
   "execution_count": 32,
   "metadata": {},
   "outputs": [
    {
     "data": {
      "text/html": [
       "<div>\n",
       "<style scoped>\n",
       "    .dataframe tbody tr th:only-of-type {\n",
       "        vertical-align: middle;\n",
       "    }\n",
       "\n",
       "    .dataframe tbody tr th {\n",
       "        vertical-align: top;\n",
       "    }\n",
       "\n",
       "    .dataframe thead th {\n",
       "        text-align: right;\n",
       "    }\n",
       "</style>\n",
       "<table border=\"1\" class=\"dataframe\">\n",
       "  <thead>\n",
       "    <tr style=\"text-align: right;\">\n",
       "      <th></th>\n",
       "      <th>film_avg_rate</th>\n",
       "      <th>review_rate</th>\n",
       "    </tr>\n",
       "  </thead>\n",
       "  <tbody>\n",
       "    <tr>\n",
       "      <th>count</th>\n",
       "      <td>8589.000000</td>\n",
       "      <td>8589.000000</td>\n",
       "    </tr>\n",
       "    <tr>\n",
       "      <th>mean</th>\n",
       "      <td>6.186972</td>\n",
       "      <td>5.872744</td>\n",
       "    </tr>\n",
       "    <tr>\n",
       "      <th>std</th>\n",
       "      <td>0.991661</td>\n",
       "      <td>2.549188</td>\n",
       "    </tr>\n",
       "    <tr>\n",
       "      <th>min</th>\n",
       "      <td>3.700000</td>\n",
       "      <td>1.000000</td>\n",
       "    </tr>\n",
       "    <tr>\n",
       "      <th>25%</th>\n",
       "      <td>5.500000</td>\n",
       "      <td>4.000000</td>\n",
       "    </tr>\n",
       "    <tr>\n",
       "      <th>50%</th>\n",
       "      <td>6.500000</td>\n",
       "      <td>6.000000</td>\n",
       "    </tr>\n",
       "    <tr>\n",
       "      <th>75%</th>\n",
       "      <td>6.900000</td>\n",
       "      <td>8.000000</td>\n",
       "    </tr>\n",
       "    <tr>\n",
       "      <th>max</th>\n",
       "      <td>7.700000</td>\n",
       "      <td>10.000000</td>\n",
       "    </tr>\n",
       "  </tbody>\n",
       "</table>\n",
       "</div>"
      ],
      "text/plain": [
       "       film_avg_rate  review_rate\n",
       "count    8589.000000  8589.000000\n",
       "mean        6.186972     5.872744\n",
       "std         0.991661     2.549188\n",
       "min         3.700000     1.000000\n",
       "25%         5.500000     4.000000\n",
       "50%         6.500000     6.000000\n",
       "75%         6.900000     8.000000\n",
       "max         7.700000    10.000000"
      ]
     },
     "execution_count": 32,
     "metadata": {},
     "output_type": "execute_result"
    }
   ],
   "source": [
    "data.describe()"
   ]
  },
  {
   "attachments": {},
   "cell_type": "markdown",
   "metadata": {},
   "source": [
    "Crear una escala más manejable de los valores de review_rate en el que agruparemos siguiendo el criterio de normalidad que nos muestra la descripción de la tabla el 25 % de los puntajes estan entre 1-4, con lo cual los agrupamos con el puntaje 0 = 1,2,3,4 y los significamos como valores negativos. entre el 25% y el 75% se ubican los puntajes entre  5-8 y los agrupamos con el puntaje 1 = 5,6,7, significandolos neutrales y por encima del 75% los puntajes 9,10 que agrupamos en el puntaje 2 = 8,9,10 como positivos."
   ]
  },
  {
   "cell_type": "code",
   "execution_count": 65,
   "metadata": {},
   "outputs": [],
   "source": [
    "# Valoración calificaciones \n",
    "\n",
    "def clasificar_rate(n_review):\n",
    "    if (n_review <= 4.0).all():\n",
    "        return 'Negative'\n",
    "    elif ((n_review > 4.0) & (n_review <= 7.0)).any():\n",
    "        return 'Neutral'\n",
    "    else:\n",
    "        return 'Positive'\n",
    "    \n",
    "data['value_rate']= data.groupby(level=0)['review_rate'].apply(lambda x: clasificar_rate(x))"
   ]
  },
  {
   "cell_type": "code",
   "execution_count": 66,
   "metadata": {},
   "outputs": [
    {
     "data": {
      "text/html": [
       "<div>\n",
       "<style scoped>\n",
       "    .dataframe tbody tr th:only-of-type {\n",
       "        vertical-align: middle;\n",
       "    }\n",
       "\n",
       "    .dataframe tbody tr th {\n",
       "        vertical-align: top;\n",
       "    }\n",
       "\n",
       "    .dataframe thead th {\n",
       "        text-align: right;\n",
       "    }\n",
       "</style>\n",
       "<table border=\"1\" class=\"dataframe\">\n",
       "  <thead>\n",
       "    <tr style=\"text-align: right;\">\n",
       "      <th></th>\n",
       "      <th>film_name</th>\n",
       "      <th>gender</th>\n",
       "      <th>film_avg_rate</th>\n",
       "      <th>review_rate</th>\n",
       "      <th>review_title</th>\n",
       "      <th>review_text</th>\n",
       "      <th>value_rate</th>\n",
       "    </tr>\n",
       "  </thead>\n",
       "  <tbody>\n",
       "    <tr>\n",
       "      <th>5702</th>\n",
       "      <td>Todo sobre mi madre</td>\n",
       "      <td>Drama</td>\n",
       "      <td>7.1</td>\n",
       "      <td>5.0</td>\n",
       "      <td>Sobreestimada.</td>\n",
       "      <td>Es una película bien hecha, pues tiene el sell...</td>\n",
       "      <td>Neutral</td>\n",
       "    </tr>\n",
       "    <tr>\n",
       "      <th>2585</th>\n",
       "      <td>Mar adentro</td>\n",
       "      <td>Drama</td>\n",
       "      <td>7.2</td>\n",
       "      <td>2.0</td>\n",
       "      <td>Lo fácil es morir!!!!!!!!!!!!!</td>\n",
       "      <td>¡¡¡¡¡Estamos en el mundo al revés!!!!!! Los hé...</td>\n",
       "      <td>Negative</td>\n",
       "    </tr>\n",
       "    <tr>\n",
       "      <th>4457</th>\n",
       "      <td>El otro lado de la cama</td>\n",
       "      <td>Musical</td>\n",
       "      <td>6.4</td>\n",
       "      <td>2.0</td>\n",
       "      <td>¿Un musical?</td>\n",
       "      <td>No fuí al cine a ver esta película apesar de l...</td>\n",
       "      <td>Negative</td>\n",
       "    </tr>\n",
       "    <tr>\n",
       "      <th>4442</th>\n",
       "      <td>El otro lado de la cama</td>\n",
       "      <td>Musical</td>\n",
       "      <td>6.4</td>\n",
       "      <td>1.0</td>\n",
       "      <td>Comedia sin gracia y musical mal cantado</td>\n",
       "      <td>Como dice el título dela crítica, estamos ante...</td>\n",
       "      <td>Negative</td>\n",
       "    </tr>\n",
       "    <tr>\n",
       "      <th>5293</th>\n",
       "      <td>Perdiendo el norte</td>\n",
       "      <td>Comedia</td>\n",
       "      <td>5.0</td>\n",
       "      <td>5.0</td>\n",
       "      <td>Los extraños resortes de la comedia.</td>\n",
       "      <td>Nacho G. Velilla parece haber estudiado bien l...</td>\n",
       "      <td>Neutral</td>\n",
       "    </tr>\n",
       "  </tbody>\n",
       "</table>\n",
       "</div>"
      ],
      "text/plain": [
       "                    film_name   gender  film_avg_rate  review_rate   \n",
       "5702      Todo sobre mi madre    Drama            7.1          5.0  \\\n",
       "2585              Mar adentro    Drama            7.2          2.0   \n",
       "4457  El otro lado de la cama  Musical            6.4          2.0   \n",
       "4442  El otro lado de la cama  Musical            6.4          1.0   \n",
       "5293       Perdiendo el norte  Comedia            5.0          5.0   \n",
       "\n",
       "                                  review_title   \n",
       "5702                            Sobreestimada.  \\\n",
       "2585            Lo fácil es morir!!!!!!!!!!!!!   \n",
       "4457                              ¿Un musical?   \n",
       "4442  Comedia sin gracia y musical mal cantado   \n",
       "5293      Los extraños resortes de la comedia.   \n",
       "\n",
       "                                            review_text value_rate  \n",
       "5702  Es una película bien hecha, pues tiene el sell...    Neutral  \n",
       "2585  ¡¡¡¡¡Estamos en el mundo al revés!!!!!! Los hé...   Negative  \n",
       "4457  No fuí al cine a ver esta película apesar de l...   Negative  \n",
       "4442  Como dice el título dela crítica, estamos ante...   Negative  \n",
       "5293  Nacho G. Velilla parece haber estudiado bien l...    Neutral  "
      ]
     },
     "execution_count": 66,
     "metadata": {},
     "output_type": "execute_result"
    }
   ],
   "source": [
    "data.sample(5)"
   ]
  },
  {
   "cell_type": "code",
   "execution_count": 67,
   "metadata": {},
   "outputs": [
    {
     "data": {
      "image/png": "[encoded data removed]",
      "text/plain": [
       "<Figure size 640x480 with 1 Axes>"
      ]
     },
     "metadata": {},
     "output_type": "display_data"
    }
   ],
   "source": [
    "# Obtener la frecuencia de cada categoría\n",
    "category_counts = data['value_rate'].value_counts()\n",
    "\n",
    "# Crear el gráfico de barras\n",
    "sns.barplot(x=category_counts.index, y=category_counts.values)\n",
    "\n",
    "# Configurar los ejes y el título del gráfico\n",
    "plt.xlabel('Categoría de Calificación')\n",
    "plt.ylabel('Cantidad')\n",
    "plt.title('Distribución de Calificaciones')\n",
    "\n",
    "# Mostrar gráfico\n",
    "plt.show()"
   ]
  },
  {
   "cell_type": "code",
   "execution_count": 80,
   "metadata": {},
   "outputs": [],
   "source": [
    "#Simplificación de sentimientos\n",
    "a=[]\n",
    "for i, review_rate in enumerate(data['review_rate']):\n",
    "    if review_rate <= 4.0:\n",
    "        a.append(0)\n",
    "    elif review_rate <= 7.0:\n",
    "        a.append(1)\n",
    "    elif review_rate > 7.0:\n",
    "        a.append(2)\n",
    "    else:\n",
    "        print(f\"Unmatched value at index {i}: {review_rate}\")\n",
    "\n",
    "\n",
    "        "
   ]
  },
  {
   "cell_type": "code",
   "execution_count": 88,
   "metadata": {},
   "outputs": [],
   "source": [
    "a = [int(value) for value in a]"
   ]
  },
  {
   "cell_type": "code",
   "execution_count": 92,
   "metadata": {},
   "outputs": [
    {
     "data": {
      "image/png": "[encoded data removed]",
      "text/plain": [
       "<Figure size 640x480 with 1 Axes>"
      ]
     },
     "metadata": {},
     "output_type": "display_data"
    }
   ],
   "source": [
    "#Graficamos solo con matplotlib.pyplot porque seaborn esta dando un error\n",
    "\n",
    "# Contar la frecuencia de cada categoría en 'a'\n",
    "counts = [a.count(0), a.count(1), a.count(2)]\n",
    "\n",
    "# Etiquetas de las categorías\n",
    "labels = ['Negative', 'Neutral', 'Positive']\n",
    "\n",
    "# Colores para las barras\n",
    "colors = ['red', 'green', 'blue']\n",
    "\n",
    "# Crear el gráfico de barras con colores diferentes\n",
    "plt.bar(labels, counts, color=colors)\n",
    "plt.xlabel('Reviews', color=\"red\")\n",
    "plt.ylabel('Count', color=\"red\")\n",
    "plt.title('COUNT PLOT', color=\"r\")\n",
    "plt.show()"
   ]
  },
  {
   "cell_type": "code",
   "execution_count": 93,
   "metadata": {},
   "outputs": [
    {
     "name": "stdout",
     "output_type": "stream",
     "text": [
      "                                            review_text  sentiment\n",
      "0     La mayor virtud de esta película es su existen...          0\n",
      "1     No soy un experto cinéfilo, pero pocas veces m...          0\n",
      "2     Si no eres un incondicional del humor estilo T...          0\n",
      "3     No sé qué está pasando, si la gente se deja ll...          0\n",
      "4     Pero cuando amanece,y me quedo solo,siento en ...          0\n",
      "...                                                 ...        ...\n",
      "8586  Buena no, lo siguiente. Por fin un film serio ...          2\n",
      "8587  Me esperaba mucho, pero que mucho, más.Guión m...          0\n",
      "8588  De mal cuerpo como sensación al finalizar, de ...          0\n",
      "8589  Los que han añadido comentarios os lo han dich...          0\n",
      "8590  Fui a ver esta película de cine con entusiasmo...          0\n",
      "\n",
      "[8589 rows x 2 columns]\n"
     ]
    }
   ],
   "source": [
    "data['sentiment']=a\n",
    "final_dataset = data[['review_text', 'sentiment']]\n",
    "print(final_dataset)"
   ]
  },
  {
   "cell_type": "code",
   "execution_count": 95,
   "metadata": {},
   "outputs": [
    {
     "data": {
      "text/plain": [
       "(2440, 2635)"
      ]
     },
     "execution_count": 95,
     "metadata": {},
     "output_type": "execute_result"
    }
   ],
   "source": [
    "#Cuento cantidad de comentarios\n",
    "\n",
    "data_p=final_dataset[data['sentiment']==2]\n",
    "data_n=final_dataset[data['sentiment']==0]\n",
    "len(data_n), len(data_p)"
   ]
  },
  {
   "cell_type": "code",
   "execution_count": 99,
   "metadata": {},
   "outputs": [
    {
     "data": {
      "text/plain": [
       "(2400, 2400)"
      ]
     },
     "execution_count": 99,
     "metadata": {},
     "output_type": "execute_result"
    }
   ],
   "source": [
    "#Selecciono la misma cantidad de comentarios positivos y negativos\n",
    "\n",
    "datap = data_p.iloc[np.random.randint(0, len(data_p), 2400), :]\n",
    "datan = data_n.iloc[np.random.randint(0, len(data_n), 2400), :]\n",
    "\n",
    "len(datan), len(datap)"
   ]
  },
  {
   "cell_type": "code",
   "execution_count": 100,
   "metadata": {},
   "outputs": [
    {
     "data": {
      "text/plain": [
       "4800"
      ]
     },
     "execution_count": 100,
     "metadata": {},
     "output_type": "execute_result"
    }
   ],
   "source": [
    "# creo nuevo dataset con datos equivalentes para el modelo\n",
    "\n",
    "data_sent = pd.concat([datap,datan])\n",
    "len(data_sent)"
   ]
  }
 ],
 "metadata": {
  "kernelspec": {
   "display_name": "ReviewProject",
   "language": "python",
   "name": "python3"
  },
  "language_info": {
   "codemirror_mode": {
    "name": "ipython",
    "version": 3
   },
   "file_extension": ".py",
   "mimetype": "text/x-python",
   "name": "python",
   "nbconvert_exporter": "python",
   "pygments_lexer": "ipython3",
   "version": "3.11.3"
  },
  "orig_nbformat": 4
 },
 "nbformat": 4,
 "nbformat_minor": 2
}
