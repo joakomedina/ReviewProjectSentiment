{
 "cells": [
  {
   "attachments": {},
   "cell_type": "markdown",
   "metadata": {},
   "source": [
    "### Introducción\n",
    "El objetivo final de este proyecto es predecir el sentimiento de un texto dado usando python, donde usamos NLTK, también conocido como Natural Language Processing Toolkit y de ser posible precisar el impacto causado por los comentarios positivos y negativos sobre un determinado comportamiento.\n",
    "\n",
    "* Para este proyecto, importaremos un conjunto de librerías que se muestran a continuación\n",
    "* Importaremos el conjunto de datos\n",
    "* Realizaremos limpieza, formateo y visualización de los datos\n",
    "* Construcción del modelo\n",
    "* Predicción\n",
    "* Medición de impacto "
   ]
  },
  {
   "cell_type": "code",
   "execution_count": 2,
   "metadata": {},
   "outputs": [],
   "source": [
    "# Importar librerías\n",
    "from bs4 import BeautifulSoup\n",
    "import numpy as np\n",
    "import pandas as pd\n",
    "import matplotlib.pyplot as plt\n",
    "import seaborn as sns\n",
    "import nltk\n",
    "import sklearn\n",
    "\n",
    "from sklearn.feature_extraction.text import CountVectorizer\n",
    "from sklearn.model_selection import train_test_split\n",
    "from sklearn.linear_model import LogisticRegression"
   ]
  },
  {
   "cell_type": "code",
   "execution_count": 32,
   "metadata": {},
   "outputs": [],
   "source": [
    "# Importar datos\n",
    "data = pd.read_csv('C:\\\\Users\\\\Joako\\\\Documents\\\\AnalisisDatos\\\\ReviewProject\\\\DatosOriginales\\\\reviews_filmaffinity.csv', delimiter='|', header=0)"
   ]
  },
  {
   "cell_type": "code",
   "execution_count": 33,
   "metadata": {},
   "outputs": [
    {
     "data": {
      "text/plain": [
       "(8591, 6)"
      ]
     },
     "execution_count": 33,
     "metadata": {},
     "output_type": "execute_result"
    }
   ],
   "source": [
    "data.shape"
   ]
  },
  {
   "cell_type": "code",
   "execution_count": 44,
   "metadata": {},
   "outputs": [
    {
     "name": "stdout",
     "output_type": "stream",
     "text": [
      "<class 'pandas.core.frame.DataFrame'>\n",
      "Index: 8589 entries, 0 to 8590\n",
      "Data columns (total 6 columns):\n",
      " #   Column         Non-Null Count  Dtype  \n",
      "---  ------         --------------  -----  \n",
      " 0   film_name      8589 non-null   object \n",
      " 1   gender         8589 non-null   object \n",
      " 2   film_avg_rate  8589 non-null   float64\n",
      " 3   review_rate    8589 non-null   float64\n",
      " 4   review_title   8589 non-null   object \n",
      " 5   review_text    8589 non-null   object \n",
      "dtypes: float64(2), object(4)\n",
      "memory usage: 469.7+ KB\n"
     ]
    }
   ],
   "source": [
    "data.info()"
   ]
  },
  {
   "cell_type": "code",
   "execution_count": 45,
   "metadata": {},
   "outputs": [
    {
     "data": {
      "text/html": [
       "<div>\n",
       "<style scoped>\n",
       "    .dataframe tbody tr th:only-of-type {\n",
       "        vertical-align: middle;\n",
       "    }\n",
       "\n",
       "    .dataframe tbody tr th {\n",
       "        vertical-align: top;\n",
       "    }\n",
       "\n",
       "    .dataframe thead th {\n",
       "        text-align: right;\n",
       "    }\n",
       "</style>\n",
       "<table border=\"1\" class=\"dataframe\">\n",
       "  <thead>\n",
       "    <tr style=\"text-align: right;\">\n",
       "      <th></th>\n",
       "      <th>film_name</th>\n",
       "      <th>gender</th>\n",
       "      <th>film_avg_rate</th>\n",
       "      <th>review_rate</th>\n",
       "      <th>review_title</th>\n",
       "      <th>review_text</th>\n",
       "    </tr>\n",
       "  </thead>\n",
       "  <tbody>\n",
       "    <tr>\n",
       "      <th>0</th>\n",
       "      <td>Ocho apellidos vascos</td>\n",
       "      <td>Comedia</td>\n",
       "      <td>6.0</td>\n",
       "      <td>3.0</td>\n",
       "      <td>OCHO APELLIDOS VASCOS...Y NINGÚN NOMBRE PROPIO</td>\n",
       "      <td>La mayor virtud de esta película es su existen...</td>\n",
       "    </tr>\n",
       "    <tr>\n",
       "      <th>1</th>\n",
       "      <td>Ocho apellidos vascos</td>\n",
       "      <td>Comedia</td>\n",
       "      <td>6.0</td>\n",
       "      <td>2.0</td>\n",
       "      <td>El perro verde</td>\n",
       "      <td>No soy un experto cinéfilo, pero pocas veces m...</td>\n",
       "    </tr>\n",
       "    <tr>\n",
       "      <th>2</th>\n",
       "      <td>Ocho apellidos vascos</td>\n",
       "      <td>Comedia</td>\n",
       "      <td>6.0</td>\n",
       "      <td>2.0</td>\n",
       "      <td>Si no eres de comer mierda... no te comas esta...</td>\n",
       "      <td>Si no eres un incondicional del humor estilo T...</td>\n",
       "    </tr>\n",
       "    <tr>\n",
       "      <th>3</th>\n",
       "      <td>Ocho apellidos vascos</td>\n",
       "      <td>Comedia</td>\n",
       "      <td>6.0</td>\n",
       "      <td>2.0</td>\n",
       "      <td>Aida: The movie</td>\n",
       "      <td>No sé qué está pasando, si la gente se deja ll...</td>\n",
       "    </tr>\n",
       "    <tr>\n",
       "      <th>4</th>\n",
       "      <td>Ocho apellidos vascos</td>\n",
       "      <td>Comedia</td>\n",
       "      <td>6.0</td>\n",
       "      <td>2.0</td>\n",
       "      <td>UN HOMBRE SOLO (Julio Iglesias 1987)</td>\n",
       "      <td>Pero cuando amanece,y me quedo solo,siento en ...</td>\n",
       "    </tr>\n",
       "  </tbody>\n",
       "</table>\n",
       "</div>"
      ],
      "text/plain": [
       "               film_name   gender  film_avg_rate  review_rate   \n",
       "0  Ocho apellidos vascos  Comedia            6.0          3.0  \\\n",
       "1  Ocho apellidos vascos  Comedia            6.0          2.0   \n",
       "2  Ocho apellidos vascos  Comedia            6.0          2.0   \n",
       "3  Ocho apellidos vascos  Comedia            6.0          2.0   \n",
       "4  Ocho apellidos vascos  Comedia            6.0          2.0   \n",
       "\n",
       "                                        review_title   \n",
       "0     OCHO APELLIDOS VASCOS...Y NINGÚN NOMBRE PROPIO  \\\n",
       "1                                     El perro verde   \n",
       "2  Si no eres de comer mierda... no te comas esta...   \n",
       "3                                    Aida: The movie   \n",
       "4               UN HOMBRE SOLO (Julio Iglesias 1987)   \n",
       "\n",
       "                                         review_text  \n",
       "0  La mayor virtud de esta película es su existen...  \n",
       "1  No soy un experto cinéfilo, pero pocas veces m...  \n",
       "2  Si no eres un incondicional del humor estilo T...  \n",
       "3  No sé qué está pasando, si la gente se deja ll...  \n",
       "4  Pero cuando amanece,y me quedo solo,siento en ...  "
      ]
     },
     "execution_count": 45,
     "metadata": {},
     "output_type": "execute_result"
    }
   ],
   "source": [
    "data.head()"
   ]
  },
  {
   "cell_type": "code",
   "execution_count": 36,
   "metadata": {},
   "outputs": [
    {
     "data": {
      "text/plain": [
       "film_name        0\n",
       "gender           0\n",
       "film_avg_rate    0\n",
       "review_rate      2\n",
       "review_title     0\n",
       "review_text      0\n",
       "dtype: int64"
      ]
     },
     "execution_count": 36,
     "metadata": {},
     "output_type": "execute_result"
    }
   ],
   "source": [
    "# Encontrar nulos\n",
    "data.isnull().sum()"
   ]
  },
  {
   "cell_type": "code",
   "execution_count": 37,
   "metadata": {},
   "outputs": [],
   "source": [
    "# Eliminar nulos\n",
    "data=data.dropna()"
   ]
  },
  {
   "cell_type": "code",
   "execution_count": 70,
   "metadata": {},
   "outputs": [
    {
     "name": "stdout",
     "output_type": "stream",
     "text": [
      "[6.  6.8 4.4 6.7 4.8 5.3 6.5 6.4 7.2 4.2 6.9 3.7 5.7 5.5 7.7 6.1 5.8 5.2\n",
      " 5.4 4.6 5.  7.1 3.9 4.7 5.1 6.2 6.6 7. ]\n"
     ]
    }
   ],
   "source": [
    "# Comprobando datos de la columna y noto que los valores contienen una coma y además son objetos. \n",
    "film=data['film_avg_rate'].unique()\n",
    "print(film)\n"
   ]
  },
  {
   "cell_type": "code",
   "execution_count": 43,
   "metadata": {},
   "outputs": [],
   "source": [
    "# La columna film_avg_rate La convierto en float y remplazo ',' por '.'\n",
    "data['film_avg_rate'] = data['film_avg_rate'].str.replace(',', '.').astype(float)\n"
   ]
  },
  {
   "cell_type": "code",
   "execution_count": 71,
   "metadata": {},
   "outputs": [
    {
     "name": "stdout",
     "output_type": "stream",
     "text": [
      "[ 3.  2.  8.  1.  6.  4.  5.  7.  9. 10.]\n"
     ]
    }
   ],
   "source": [
    "# comprobar rango de puntajes en la columna review_rate\n",
    "rate=data['review_rate'].unique()\n",
    "print(rate)"
   ]
  },
  {
   "cell_type": "code",
   "execution_count": 72,
   "metadata": {},
   "outputs": [
    {
     "data": {
      "text/html": [
       "<div>\n",
       "<style scoped>\n",
       "    .dataframe tbody tr th:only-of-type {\n",
       "        vertical-align: middle;\n",
       "    }\n",
       "\n",
       "    .dataframe tbody tr th {\n",
       "        vertical-align: top;\n",
       "    }\n",
       "\n",
       "    .dataframe thead th {\n",
       "        text-align: right;\n",
       "    }\n",
       "</style>\n",
       "<table border=\"1\" class=\"dataframe\">\n",
       "  <thead>\n",
       "    <tr style=\"text-align: right;\">\n",
       "      <th></th>\n",
       "      <th>film_avg_rate</th>\n",
       "      <th>review_rate</th>\n",
       "    </tr>\n",
       "  </thead>\n",
       "  <tbody>\n",
       "    <tr>\n",
       "      <th>count</th>\n",
       "      <td>8589.000000</td>\n",
       "      <td>8589.000000</td>\n",
       "    </tr>\n",
       "    <tr>\n",
       "      <th>mean</th>\n",
       "      <td>6.186972</td>\n",
       "      <td>5.872744</td>\n",
       "    </tr>\n",
       "    <tr>\n",
       "      <th>std</th>\n",
       "      <td>0.991661</td>\n",
       "      <td>2.549188</td>\n",
       "    </tr>\n",
       "    <tr>\n",
       "      <th>min</th>\n",
       "      <td>3.700000</td>\n",
       "      <td>1.000000</td>\n",
       "    </tr>\n",
       "    <tr>\n",
       "      <th>25%</th>\n",
       "      <td>5.500000</td>\n",
       "      <td>4.000000</td>\n",
       "    </tr>\n",
       "    <tr>\n",
       "      <th>50%</th>\n",
       "      <td>6.500000</td>\n",
       "      <td>6.000000</td>\n",
       "    </tr>\n",
       "    <tr>\n",
       "      <th>75%</th>\n",
       "      <td>6.900000</td>\n",
       "      <td>8.000000</td>\n",
       "    </tr>\n",
       "    <tr>\n",
       "      <th>max</th>\n",
       "      <td>7.700000</td>\n",
       "      <td>10.000000</td>\n",
       "    </tr>\n",
       "  </tbody>\n",
       "</table>\n",
       "</div>"
      ],
      "text/plain": [
       "       film_avg_rate  review_rate\n",
       "count    8589.000000  8589.000000\n",
       "mean        6.186972     5.872744\n",
       "std         0.991661     2.549188\n",
       "min         3.700000     1.000000\n",
       "25%         5.500000     4.000000\n",
       "50%         6.500000     6.000000\n",
       "75%         6.900000     8.000000\n",
       "max         7.700000    10.000000"
      ]
     },
     "execution_count": 72,
     "metadata": {},
     "output_type": "execute_result"
    }
   ],
   "source": [
    "data.describe()"
   ]
  },
  {
   "attachments": {},
   "cell_type": "markdown",
   "metadata": {},
   "source": [
    "Crear una escala más manejable de los valores de review_rate en el que agruparemos siguiendo el criterio de normalidad que nos muestra la descripción de la tabla el 25 % de los puntajes estan entre 1-4, con lo cual los agrupamos con el puntaje 0 = 1,2,3,4 y los significamos como valores negativos. entre el 25% y el 75% se ubican los puntajes entre  5-8 y los agrupamos con el puntaje 1 = 5,6,7, significandolos neutrales y por encima del 75% los puntajes 9,10 que agrupamos en el puntaje 2 = 8,9,10 como positivos."
   ]
  },
  {
   "cell_type": "code",
   "execution_count": 73,
   "metadata": {},
   "outputs": [],
   "source": [
    "# escala\n",
    "a=[]\n",
    "for i in data['review_rate']:\n",
    "    if i < 4:\n",
    "        a.append(0)\n",
    "    elif i <= 7:\n",
    "        a.append(1)\n",
    "    else:\n",
    "        a.append(2)"
   ]
  },
  {
   "cell_type": "code",
   "execution_count": 74,
   "metadata": {},
   "outputs": [
    {
     "name": "stdout",
     "output_type": "stream",
     "text": [
      "Negative Review:  1851\n",
      "Neutral Review:  4103\n",
      "Positive Review:  2635\n"
     ]
    }
   ],
   "source": [
    "r_0, r_1, r_2 = 0, 0, 0\n",
    "for i in a:\n",
    "    if i == 0:\n",
    "        r_0 += 1\n",
    "    elif i == 1:\n",
    "        r_1 += 1\n",
    "    else:\n",
    "        r_2 += 1\n",
    "print('Negative Review: ', r_0)\n",
    "print('Neutral Review: ', r_1)\n",
    "print('Positive Review: ', r_2)"
   ]
  },
  {
   "cell_type": "code",
   "execution_count": 75,
   "metadata": {},
   "outputs": [
    {
     "data": {
      "image/png": "[encoded data removed]",
      "text/plain": [
       "<Figure size 640x480 with 1 Axes>"
      ]
     },
     "metadata": {},
     "output_type": "display_data"
    }
   ],
   "source": [
    "sns.countplot(a)\n",
    "plt.xlabel('Escala Review', color='red')\n",
    "plt.ylabel('Count', color=\"red\")\n",
    "plt.xticks([0,1,2], ['Negative', 'Neutral', 'Positive'])\n",
    "plt.title('Conteo de puntajes', color='r' )\n",
    "plt.show()"
   ]
  }
 ],
 "metadata": {
  "kernelspec": {
   "display_name": "ReviewProject",
   "language": "python",
   "name": "python3"
  },
  "language_info": {
   "codemirror_mode": {
    "name": "ipython",
    "version": 3
   },
   "file_extension": ".py",
   "mimetype": "text/x-python",
   "name": "python",
   "nbconvert_exporter": "python",
   "pygments_lexer": "ipython3",
   "version": "3.11.3"
  },
  "orig_nbformat": 4
 },
 "nbformat": 4,
 "nbformat_minor": 2
}
